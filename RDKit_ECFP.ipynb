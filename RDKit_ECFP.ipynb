{
  "nbformat": 4,
  "nbformat_minor": 0,
  "metadata": {
    "colab": {
      "name": "RDKit_ECFP.ipynb",
      "provenance": []
    },
    "kernelspec": {
      "name": "python3",
      "display_name": "Python 3"
    }
  },
  "cells": [
    {
      "cell_type": "code",
      "metadata": {
        "colab": {
          "base_uri": "https://localhost:8080/",
          "height": 321
        },
        "id": "sbdXQMYE3H1a",
        "outputId": "70cbe40e-a931-41a2-ef3f-7b2589e0fa3c"
      },
      "source": [
        "from IPython.display import YouTubeVideo\r\n",
        "YouTubeVideo('ERvUf_lNopo')"
      ],
      "execution_count": 1,
      "outputs": [
        {
          "output_type": "execute_result",
          "data": {
            "text/html": [
              "\n",
              "        <iframe\n",
              "            width=\"400\"\n",
              "            height=\"300\"\n",
              "            src=\"https://www.youtube.com/embed/ERvUf_lNopo\"\n",
              "            frameborder=\"0\"\n",
              "            allowfullscreen\n",
              "        ></iframe>\n",
              "        "
            ],
            "text/plain": [
              "<IPython.lib.display.YouTubeVideo at 0x7f65e34febe0>"
            ],
            "image/jpeg": "[encoded data removed]"
          },
          "metadata": {
            "tags": []
          },
          "execution_count": 1
        }
      ]
    },
    {
      "cell_type": "code",
      "metadata": {
        "colab": {
          "base_uri": "https://localhost:8080/",
          "height": 321
        },
        "id": "-67sRWM7c20b",
        "outputId": "7f9cdb09-d1c6-498d-f287-04d9672dc8ae"
      },
      "source": [
        "from IPython.display import YouTubeVideo\r\n",
        "YouTubeVideo('3qzZbaUzo9M')"
      ],
      "execution_count": 2,
      "outputs": [
        {
          "output_type": "execute_result",
          "data": {
            "text/html": [
              "\n",
              "        <iframe\n",
              "            width=\"400\"\n",
              "            height=\"300\"\n",
              "            src=\"https://www.youtube.com/embed/3qzZbaUzo9M\"\n",
              "            frameborder=\"0\"\n",
              "            allowfullscreen\n",
              "        ></iframe>\n",
              "        "
            ],
            "text/plain": [
              "<IPython.lib.display.YouTubeVideo at 0x7f65e34fe710>"
            ],
            "image/jpeg": "[encoded data removed]"
          },
          "metadata": {
            "tags": []
          },
          "execution_count": 2
        }
      ]
    },
    {
      "cell_type": "markdown",
      "metadata": {
        "id": "n-H-C6INT1Hz"
      },
      "source": [
        "RDkit基礎教程 \r\n",
        "http://rdkit.chenzhaoqiang.com/basicManual.html#id27"
      ]
    },
    {
      "cell_type": "markdown",
      "metadata": {
        "id": "Emin0NgmbgMl"
      },
      "source": [
        "#Part 0 : install"
      ]
    },
    {
      "cell_type": "code",
      "metadata": {
        "colab": {
          "base_uri": "https://localhost:8080/"
        },
        "id": "aIqGMiTNbiMB",
        "outputId": "f13d1067-6702-4c4f-f8b4-23a72b4490b9"
      },
      "source": [
        "# INSTALL CONDA ON GOOGLE COLAB\r\n",
        "! wget https://repo.anaconda.com/miniconda/Miniconda3-py37_4.8.2-Linux-x86_64.sh\r\n",
        "! chmod +x Miniconda3-py37_4.8.2-Linux-x86_64.sh\r\n",
        "! bash ./Miniconda3-py37_4.8.2-Linux-x86_64.sh -b -f -p /usr/local\r\n",
        "import sys\r\n",
        "sys.path.append('/usr/local/lib/python3.7/site-packages/')\r\n",
        "! conda install -c rdkit rdkit -y\r\n",
        "from rdkit import Chem"
      ],
      "execution_count": 3,
      "outputs": [
        {
          "output_type": "stream",
          "text": [
            "--2021-02-19 12:35:50--  https://repo.anaconda.com/miniconda/Miniconda3-py37_4.8.2-Linux-x86_64.sh\n",
            "Resolving repo.anaconda.com (repo.anaconda.com)... 104.16.130.3, 104.16.131.3, 2606:4700::6810:8303, ...\n",
            "Connecting to repo.anaconda.com (repo.anaconda.com)|104.16.130.3|:443... connected.\n",
            "HTTP request sent, awaiting response... 200 OK\n",
            "Length: 85055499 (81M) [application/x-sh]\n",
            "Saving to: ‘Miniconda3-py37_4.8.2-Linux-x86_64.sh’\n",
            "\n",
            "Miniconda3-py37_4.8 100%[===================>]  81.12M   234MB/s    in 0.3s    \n",
            "\n",
            "2021-02-19 12:35:51 (234 MB/s) - ‘Miniconda3-py37_4.8.2-Linux-x86_64.sh’ saved [85055499/85055499]\n",
            "\n",
            "PREFIX=/usr/local\n",
            "Unpacking payload ...\n",
            "Collecting package metadata (current_repodata.json): - \b\b\\ \b\b| \b\bdone\n",
            "Solving environment: - \b\bdone\n",
            "\n",
            "## Package Plan ##\n",
            "\n",
            "  environment location: /usr/local\n",
            "\n",
            "  added / updated specs:\n",
            "    - _libgcc_mutex==0.1=main\n",
            "    - asn1crypto==1.3.0=py37_0\n",
            "    - ca-certificates==2020.1.1=0\n",
            "    - certifi==2019.11.28=py37_0\n",
            "    - cffi==1.14.0=py37h2e261b9_0\n",
            "    - chardet==3.0.4=py37_1003\n",
            "    - conda-package-handling==1.6.0=py37h7b6447c_0\n",
            "    - conda==4.8.2=py37_0\n",
            "    - cryptography==2.8=py37h1ba5d50_0\n",
            "    - idna==2.8=py37_0\n",
            "    - ld_impl_linux-64==2.33.1=h53a641e_7\n",
            "    - libedit==3.1.20181209=hc058e9b_0\n",
            "    - libffi==3.2.1=hd88cf55_4\n",
            "    - libgcc-ng==9.1.0=hdf63c60_0\n",
            "    - libstdcxx-ng==9.1.0=hdf63c60_0\n",
            "    - ncurses==6.2=he6710b0_0\n",
            "    - openssl==1.1.1d=h7b6447c_4\n",
            "    - pip==20.0.2=py37_1\n",
            "    - pycosat==0.6.3=py37h7b6447c_0\n",
            "    - pycparser==2.19=py37_0\n",
            "    - pyopenssl==19.1.0=py37_0\n",
            "    - pysocks==1.7.1=py37_0\n",
            "    - python==3.7.6=h0371630_2\n",
            "    - readline==7.0=h7b6447c_5\n",
            "    - requests==2.22.0=py37_1\n",
            "    - ruamel_yaml==0.15.87=py37h7b6447c_0\n",
            "    - setuptools==45.2.0=py37_0\n",
            "    - six==1.14.0=py37_0\n",
            "    - sqlite==3.31.1=h7b6447c_0\n",
            "    - tk==8.6.8=hbc83047_0\n",
            "    - tqdm==4.42.1=py_0\n",
            "    - urllib3==1.25.8=py37_0\n",
            "    - wheel==0.34.2=py37_0\n",
            "    - xz==5.2.4=h14c3975_4\n",
            "    - yaml==0.1.7=had09818_2\n",
            "    - zlib==1.2.11=h7b6447c_3\n",
            "\n",
            "\n",
            "The following NEW packages will be INSTALLED:\n",
            "\n",
            "  _libgcc_mutex      pkgs/main/linux-64::_libgcc_mutex-0.1-main\n",
            "  asn1crypto         pkgs/main/linux-64::asn1crypto-1.3.0-py37_0\n",
            "  ca-certificates    pkgs/main/linux-64::ca-certificates-2020.1.1-0\n",
            "  certifi            pkgs/main/linux-64::certifi-2019.11.28-py37_0\n",
            "  cffi               pkgs/main/linux-64::cffi-1.14.0-py37h2e261b9_0\n",
            "  chardet            pkgs/main/linux-64::chardet-3.0.4-py37_1003\n",
            "  conda              pkgs/main/linux-64::conda-4.8.2-py37_0\n",
            "  conda-package-han~ pkgs/main/linux-64::conda-package-handling-1.6.0-py37h7b6447c_0\n",
            "  cryptography       pkgs/main/linux-64::cryptography-2.8-py37h1ba5d50_0\n",
            "  idna               pkgs/main/linux-64::idna-2.8-py37_0\n",
            "  ld_impl_linux-64   pkgs/main/linux-64::ld_impl_linux-64-2.33.1-h53a641e_7\n",
            "  libedit            pkgs/main/linux-64::libedit-3.1.20181209-hc058e9b_0\n",
            "  libffi             pkgs/main/linux-64::libffi-3.2.1-hd88cf55_4\n",
            "  libgcc-ng          pkgs/main/linux-64::libgcc-ng-9.1.0-hdf63c60_0\n",
            "  libstdcxx-ng       pkgs/main/linux-64::libstdcxx-ng-9.1.0-hdf63c60_0\n",
            "  ncurses            pkgs/main/linux-64::ncurses-6.2-he6710b0_0\n",
            "  openssl            pkgs/main/linux-64::openssl-1.1.1d-h7b6447c_4\n",
            "  pip                pkgs/main/linux-64::pip-20.0.2-py37_1\n",
            "  pycosat            pkgs/main/linux-64::pycosat-0.6.3-py37h7b6447c_0\n",
            "  pycparser          pkgs/main/linux-64::pycparser-2.19-py37_0\n",
            "  pyopenssl          pkgs/main/linux-64::pyopenssl-19.1.0-py37_0\n",
            "  pysocks            pkgs/main/linux-64::pysocks-1.7.1-py37_0\n",
            "  python             pkgs/main/linux-64::python-3.7.6-h0371630_2\n",
            "  readline           pkgs/main/linux-64::readline-7.0-h7b6447c_5\n",
            "  requests           pkgs/main/linux-64::requests-2.22.0-py37_1\n",
            "  ruamel_yaml        pkgs/main/linux-64::ruamel_yaml-0.15.87-py37h7b6447c_0\n",
            "  setuptools         pkgs/main/linux-64::setuptools-45.2.0-py37_0\n",
            "  six                pkgs/main/linux-64::six-1.14.0-py37_0\n",
            "  sqlite             pkgs/main/linux-64::sqlite-3.31.1-h7b6447c_0\n",
            "  tk                 pkgs/main/linux-64::tk-8.6.8-hbc83047_0\n",
            "  tqdm               pkgs/main/noarch::tqdm-4.42.1-py_0\n",
            "  urllib3            pkgs/main/linux-64::urllib3-1.25.8-py37_0\n",
            "  wheel              pkgs/main/linux-64::wheel-0.34.2-py37_0\n",
            "  xz                 pkgs/main/linux-64::xz-5.2.4-h14c3975_4\n",
            "  yaml               pkgs/main/linux-64::yaml-0.1.7-had09818_2\n",
            "  zlib               pkgs/main/linux-64::zlib-1.2.11-h7b6447c_3\n",
            "\n",
            "\n",
            "Preparing transaction: | \b\b/ \b\b- \b\b\\ \b\bdone\n",
            "Executing transaction: / \b\b- \b\b\\ \b\b| \b\b/ \b\b- \b\b\\ \b\b| \b\b/ \b\b- \b\b\\ \b\b| \b\b/ \b\b- \b\b\\ \b\b| \b\bdone\n",
            "installation finished.\n",
            "WARNING:\n",
            "    You currently have a PYTHONPATH environment variable set. This may cause\n",
            "    unexpected behavior when running the Python interpreter in Miniconda3.\n",
            "    For best results, please verify that your PYTHONPATH only points to\n",
            "    directories of packages that are compatible with the Python interpreter\n",
            "    in Miniconda3: /usr/local\n",
            "Collecting package metadata (current_repodata.json): - \b\b\\ \b\b| \b\b/ \b\b- \b\b\\ \b\b| \b\b/ \b\b- \b\b\\ \b\b| \b\b/ \b\b- \b\b\\ \b\b| \b\b/ \b\b- \b\b\\ \b\bdone\n",
            "Solving environment: / \b\b- \b\b\\ \b\b| \b\b/ \b\b- \b\b\\ \b\b| \b\b/ \b\b- \b\b\\ \b\b| \b\bdone\n",
            "\n",
            "## Package Plan ##\n",
            "\n",
            "  environment location: /usr/local\n",
            "\n",
            "  added / updated specs:\n",
            "    - rdkit\n",
            "\n",
            "\n",
            "The following packages will be downloaded:\n",
            "\n",
            "    package                    |            build\n",
            "    ---------------------------|-----------------\n",
            "    blas-1.0                   |              mkl           6 KB\n",
            "    bzip2-1.0.8                |       h7b6447c_0          78 KB\n",
            "    ca-certificates-2021.1.19  |       h06a4308_0         121 KB\n",
            "    cairo-1.14.12              |       h8948797_3         906 KB\n",
            "    certifi-2020.12.5          |   py37h06a4308_0         141 KB\n",
            "    conda-4.9.2                |   py37h06a4308_0         2.9 MB\n",
            "    fontconfig-2.13.1          |       h6c09931_0         250 KB\n",
            "    freetype-2.10.4            |       h5ab3b9f_0         596 KB\n",
            "    glib-2.67.4                |       h36276a3_1         3.0 MB\n",
            "    icu-58.2                   |       he6710b0_3        10.5 MB\n",
            "    intel-openmp-2020.2        |              254         786 KB\n",
            "    jpeg-9b                    |       h024ee3a_2         214 KB\n",
            "    lcms2-2.11                 |       h396b838_0         307 KB\n",
            "    libboost-1.73.0            |      h3ff78a5_11        13.9 MB\n",
            "    libffi-3.3                 |       he6710b0_2          50 KB\n",
            "    libpng-1.6.37              |       hbc83047_0         278 KB\n",
            "    libtiff-4.1.0              |       h2733197_1         449 KB\n",
            "    libuuid-1.0.3              |       h1bed415_2          15 KB\n",
            "    libxcb-1.14                |       h7b6447c_0         505 KB\n",
            "    libxml2-2.9.10             |       hb55368b_3         1.2 MB\n",
            "    lz4-c-1.9.3                |       h2531618_0         186 KB\n",
            "    mkl-2020.2                 |              256       138.3 MB\n",
            "    mkl-service-2.3.0          |   py37he8ac12f_0          52 KB\n",
            "    mkl_fft-1.2.1              |   py37h54f3939_0         148 KB\n",
            "    mkl_random-1.1.1           |   py37h0573a6f_0         322 KB\n",
            "    numpy-1.19.2               |   py37h54aff64_0          22 KB\n",
            "    numpy-base-1.19.2          |   py37hfa32c7d_0         4.1 MB\n",
            "    olefile-0.46               |           py37_0          50 KB\n",
            "    openssl-1.1.1j             |       h27cfd23_0         2.5 MB\n",
            "    pandas-1.2.2               |   py37ha9443f7_0         8.5 MB\n",
            "    pcre-8.44                  |       he6710b0_0         212 KB\n",
            "    pillow-8.1.0               |   py37he98fc37_0         623 KB\n",
            "    pixman-0.40.0              |       h7b6447c_0         370 KB\n",
            "    py-boost-1.73.0            |  py37ha9443f7_11         204 KB\n",
            "    python-dateutil-2.8.1      |     pyhd3eb1b0_0         221 KB\n",
            "    pytz-2021.1                |     pyhd3eb1b0_0         181 KB\n",
            "    rdkit-2020.09.1.0          |   py37hd50e099_1        25.8 MB  rdkit\n",
            "    xz-5.2.5                   |       h7b6447c_0         341 KB\n",
            "    zstd-1.4.5                 |       h9ceee32_0         619 KB\n",
            "    ------------------------------------------------------------\n",
            "                                           Total:       218.8 MB\n",
            "\n",
            "The following NEW packages will be INSTALLED:\n",
            "\n",
            "  blas               pkgs/main/linux-64::blas-1.0-mkl\n",
            "  bzip2              pkgs/main/linux-64::bzip2-1.0.8-h7b6447c_0\n",
            "  cairo              pkgs/main/linux-64::cairo-1.14.12-h8948797_3\n",
            "  fontconfig         pkgs/main/linux-64::fontconfig-2.13.1-h6c09931_0\n",
            "  freetype           pkgs/main/linux-64::freetype-2.10.4-h5ab3b9f_0\n",
            "  glib               pkgs/main/linux-64::glib-2.67.4-h36276a3_1\n",
            "  icu                pkgs/main/linux-64::icu-58.2-he6710b0_3\n",
            "  intel-openmp       pkgs/main/linux-64::intel-openmp-2020.2-254\n",
            "  jpeg               pkgs/main/linux-64::jpeg-9b-h024ee3a_2\n",
            "  lcms2              pkgs/main/linux-64::lcms2-2.11-h396b838_0\n",
            "  libboost           pkgs/main/linux-64::libboost-1.73.0-h3ff78a5_11\n",
            "  libpng             pkgs/main/linux-64::libpng-1.6.37-hbc83047_0\n",
            "  libtiff            pkgs/main/linux-64::libtiff-4.1.0-h2733197_1\n",
            "  libuuid            pkgs/main/linux-64::libuuid-1.0.3-h1bed415_2\n",
            "  libxcb             pkgs/main/linux-64::libxcb-1.14-h7b6447c_0\n",
            "  libxml2            pkgs/main/linux-64::libxml2-2.9.10-hb55368b_3\n",
            "  lz4-c              pkgs/main/linux-64::lz4-c-1.9.3-h2531618_0\n",
            "  mkl                pkgs/main/linux-64::mkl-2020.2-256\n",
            "  mkl-service        pkgs/main/linux-64::mkl-service-2.3.0-py37he8ac12f_0\n",
            "  mkl_fft            pkgs/main/linux-64::mkl_fft-1.2.1-py37h54f3939_0\n",
            "  mkl_random         pkgs/main/linux-64::mkl_random-1.1.1-py37h0573a6f_0\n",
            "  numpy              pkgs/main/linux-64::numpy-1.19.2-py37h54aff64_0\n",
            "  numpy-base         pkgs/main/linux-64::numpy-base-1.19.2-py37hfa32c7d_0\n",
            "  olefile            pkgs/main/linux-64::olefile-0.46-py37_0\n",
            "  pandas             pkgs/main/linux-64::pandas-1.2.2-py37ha9443f7_0\n",
            "  pcre               pkgs/main/linux-64::pcre-8.44-he6710b0_0\n",
            "  pillow             pkgs/main/linux-64::pillow-8.1.0-py37he98fc37_0\n",
            "  pixman             pkgs/main/linux-64::pixman-0.40.0-h7b6447c_0\n",
            "  py-boost           pkgs/main/linux-64::py-boost-1.73.0-py37ha9443f7_11\n",
            "  python-dateutil    pkgs/main/noarch::python-dateutil-2.8.1-pyhd3eb1b0_0\n",
            "  pytz               pkgs/main/noarch::pytz-2021.1-pyhd3eb1b0_0\n",
            "  rdkit              rdkit/linux-64::rdkit-2020.09.1.0-py37hd50e099_1\n",
            "  zstd               pkgs/main/linux-64::zstd-1.4.5-h9ceee32_0\n",
            "\n",
            "The following packages will be UPDATED:\n",
            "\n",
            "  ca-certificates                                2020.1.1-0 --> 2021.1.19-h06a4308_0\n",
            "  certifi                                 2019.11.28-py37_0 --> 2020.12.5-py37h06a4308_0\n",
            "  conda                                        4.8.2-py37_0 --> 4.9.2-py37h06a4308_0\n",
            "  libffi                                   3.2.1-hd88cf55_4 --> 3.3-he6710b0_2\n",
            "  openssl                                 1.1.1d-h7b6447c_4 --> 1.1.1j-h27cfd23_0\n",
            "  xz                                       5.2.4-h14c3975_4 --> 5.2.5-h7b6447c_0\n",
            "\n",
            "\n",
            "\n",
            "Downloading and Extracting Packages\n",
            "rdkit-2020.09.1.0    | 25.8 MB   | : 100% 1.0/1 [00:07<00:00,  7.38s/it]\n",
            "icu-58.2             | 10.5 MB   | : 100% 1.0/1 [00:00<00:00,  1.73s/it]               \n",
            "lz4-c-1.9.3          | 186 KB    | : 100% 1.0/1 [00:00<00:00, 14.64it/s]\n",
            "cairo-1.14.12        | 906 KB    | : 100% 1.0/1 [00:00<00:00,  9.54it/s]\n",
            "blas-1.0             | 6 KB      | : 100% 1.0/1 [00:00<00:00, 17.33it/s]\n",
            "pandas-1.2.2         | 8.5 MB    | : 100% 1.0/1 [00:00<00:00,  1.74it/s]\n",
            "numpy-1.19.2         | 22 KB     | : 100% 1.0/1 [00:00<00:00, 17.02it/s]\n",
            "libpng-1.6.37        | 278 KB    | : 100% 1.0/1 [00:00<00:00, 14.51it/s]\n",
            "py-boost-1.73.0      | 204 KB    | : 100% 1.0/1 [00:00<00:00, 15.37it/s]\n",
            "libtiff-4.1.0        | 449 KB    | : 100% 1.0/1 [00:00<00:00, 12.33it/s]\n",
            "certifi-2020.12.5    | 141 KB    | : 100% 1.0/1 [00:00<00:00, 16.00it/s]\n",
            "lcms2-2.11           | 307 KB    | : 100% 1.0/1 [00:00<00:00, 15.52it/s]\n",
            "python-dateutil-2.8. | 221 KB    | : 100% 1.0/1 [00:00<00:00, 17.54it/s]\n",
            "numpy-base-1.19.2    | 4.1 MB    | : 100% 1.0/1 [00:00<00:00,  3.66it/s]\n",
            "mkl-2020.2           | 138.3 MB  | : 100% 1.0/1 [00:06<00:00,  6.07s/it]               \n",
            "conda-4.9.2          | 2.9 MB    | : 100% 1.0/1 [00:00<00:00,  5.44it/s]\n",
            "libxml2-2.9.10       | 1.2 MB    | : 100% 1.0/1 [00:00<00:00,  8.03it/s]\n",
            "libuuid-1.0.3        | 15 KB     | : 100% 1.0/1 [00:00<00:00, 19.06it/s]\n",
            "mkl_fft-1.2.1        | 148 KB    | : 100% 1.0/1 [00:00<00:00, 18.53it/s]\n",
            "jpeg-9b              | 214 KB    | : 100% 1.0/1 [00:00<00:00, 17.03it/s]\n",
            "freetype-2.10.4      | 596 KB    | : 100% 1.0/1 [00:00<00:00, 11.33it/s]\n",
            "xz-5.2.5             | 341 KB    | : 100% 1.0/1 [00:00<00:00, 12.68it/s]\n",
            "libboost-1.73.0      | 13.9 MB   | : 100% 1.0/1 [00:02<00:00,  2.11s/it]               \n",
            "libffi-3.3           | 50 KB     | : 100% 1.0/1 [00:00<00:00, 17.10it/s]\n",
            "bzip2-1.0.8          | 78 KB     | : 100% 1.0/1 [00:00<00:00, 14.99it/s]\n",
            "pytz-2021.1          | 181 KB    | : 100% 1.0/1 [00:00<00:00, 10.22it/s]\n",
            "pcre-8.44            | 212 KB    | : 100% 1.0/1 [00:00<00:00, 15.57it/s]\n",
            "pixman-0.40.0        | 370 KB    | : 100% 1.0/1 [00:00<00:00, 15.17it/s]\n",
            "intel-openmp-2020.2  | 786 KB    | : 100% 1.0/1 [00:00<00:00, 12.88it/s]\n",
            "pillow-8.1.0         | 623 KB    | : 100% 1.0/1 [00:00<00:00, 12.17it/s]\n",
            "glib-2.67.4          | 3.0 MB    | : 100% 1.0/1 [00:00<00:00,  5.11it/s]\n",
            "libxcb-1.14          | 505 KB    | : 100% 1.0/1 [00:00<00:00, 12.13it/s]\n",
            "zstd-1.4.5           | 619 KB    | : 100% 1.0/1 [00:00<00:00, 11.60it/s]\n",
            "openssl-1.1.1j       | 2.5 MB    | : 100% 1.0/1 [00:00<00:00,  6.58it/s]\n",
            "olefile-0.46         | 50 KB     | : 100% 1.0/1 [00:00<00:00, 15.01it/s]\n",
            "mkl-service-2.3.0    | 52 KB     | : 100% 1.0/1 [00:00<00:00, 15.23it/s]\n",
            "mkl_random-1.1.1     | 322 KB    | : 100% 1.0/1 [00:00<00:00, 13.71it/s]\n",
            "ca-certificates-2021 | 121 KB    | : 100% 1.0/1 [00:00<00:00, 17.02it/s]\n",
            "fontconfig-2.13.1    | 250 KB    | : 100% 1.0/1 [00:00<00:00, 13.51it/s]\n",
            "Preparing transaction: - \b\b\\ \b\b| \b\b/ \b\b- \b\b\\ \b\b| \b\b/ \b\b- \b\b\\ \b\bdone\n",
            "Verifying transaction: / \b\b- \b\b\\ \b\b| \b\b/ \b\b- \b\b\\ \b\b| \b\b/ \b\b- \b\b\\ \b\b| \b\b/ \b\b- \b\b\\ \b\b| \b\b/ \b\b- \b\b\\ \b\b| \b\b/ \b\b- \b\b\\ \b\b| \b\b/ \b\b- \b\b\\ \b\bdone\n",
            "Executing transaction: / \b\b- \b\b\\ \b\b| \b\b/ \b\b- \b\b\\ \b\b| \b\b/ \b\b- \b\b\\ \b\b| \b\b/ \b\b- \b\b\\ \b\b| \b\b/ \b\b- \b\b\\ \b\b| \b\b/ \b\b- \b\b\\ \b\b| \b\b/ \b\b- \b\b\\ \b\b| \b\b/ \b\b- \b\b\\ \b\b| \b\b/ \b\b- \b\b\\ \b\b| \b\b/ \b\b- \b\b\\ \b\b| \b\b/ \b\b- \b\b\\ \b\b| \b\b/ \b\b- \b\b\\ \b\b| \b\b/ \b\b- \b\b\\ \b\b| \b\b/ \b\b- \b\b\\ \b\b| \b\b/ \b\b- \b\b\\ \b\b| \b\b/ \b\b- \b\b\\ \b\b| \b\b/ \b\b- \b\b\\ \b\b| \b\b/ \b\b- \b\b\\ \b\b| \b\b/ \b\b- \b\b\\ \b\b| \b\b/ \b\b- \b\b\\ \b\b| \b\b/ \b\b- \b\b\\ \b\b| \b\b/ \b\b- \b\b\\ \b\b| \b\b/ \b\b- \b\b\\ \b\b| \b\b/ \b\b- \b\b\\ \b\b| \b\b/ \b\b- \b\b\\ \b\b| \b\b/ \b\b- \b\b\\ \b\b| \b\b/ \b\b- \b\b\\ \b\b| \b\b/ \b\b- \b\b\\ \b\b| \b\b/ \b\b- \b\b\\ \b\b| \b\b/ \b\b- \b\b\\ \b\b| \b\b/ \b\b- \b\b\\ \b\b| \b\b/ \b\b- \b\b\\ \b\b| \b\b/ \b\b- \b\b\\ \b\b| \b\b/ \b\b- \b\b\\ \b\b| \b\b/ \b\b- \b\b\\ \b\b| \b\b/ \b\b- \b\b\\ \b\b| \b\b/ \b\b- \b\b\\ \b\b| \b\b/ \b\b- \b\b\\ \b\b| \b\b/ \b\b- \b\b\\ \b\b| \b\b/ \b\b- \b\b\\ \b\b| \b\b/ \b\b- \b\b\\ \b\b| \b\b/ \b\b- \b\b\\ \b\b| \b\b/ \b\b- \b\b\\ \b\b| \b\b/ \b\b- \b\b\\ \b\b| \b\b/ \b\b- \b\b\\ \b\b| \b\b/ \b\b- \b\b\\ \b\b| \b\b/ \b\b- \b\b\\ \b\b| \b\b/ \b\b- \b\b\\ \b\b| \b\b/ \b\b- \b\b\\ \b\b| \b\b/ \b\b- \b\b\\ \b\b| \b\b/ \b\b- \b\b\\ \b\b| \b\b/ \b\b- \b\b\\ \b\b| \b\b/ \b\b- \b\b\\ \b\b| \b\b/ \b\b- \b\b\\ \b\b| \b\b/ \b\b- \b\b\\ \b\b| \b\b/ \b\b- \b\b\\ \b\b| \b\b/ \b\b- \b\b\\ \b\b| \b\b/ \b\b- \b\b\\ \b\b| \b\b/ \b\b- \b\b\\ \b\b| \b\b/ \b\b- \b\b\\ \b\b| \b\b/ \b\b- \b\b\\ \b\b| \b\b/ \b\b- \b\b\\ \b\b| \b\b/ \b\b- \b\b\\ \b\b| \b\b/ \b\b- \b\b\\ \b\b| \b\b/ \b\b- \b\b\\ \b\b| \b\b/ \b\b- \b\b\\ \b\b| \b\b/ \b\b- \b\b\\ \b\b| \b\b/ \b\b- \b\b\\ \b\b| \b\b/ \b\b- \b\b\\ \b\b| \b\b/ \b\b- \b\b\\ \b\b| \b\b/ \b\b- \b\b\\ \b\b| \b\b/ \b\b- \b\b\\ \b\b| \b\b/ \b\b- \b\b\\ \b\b| \b\b/ \b\b- \b\b\\ \b\b| \b\b/ \b\b- \b\b\\ \b\b| \b\b/ \b\b- \b\b\\ \b\b| \b\b/ \b\b- \b\b\\ \b\b| \b\b/ \b\b- \b\b\\ \b\b| \b\bdone\n"
          ],
          "name": "stdout"
        }
      ]
    },
    {
      "cell_type": "markdown",
      "metadata": {
        "id": "RKlChZQ6LTti"
      },
      "source": [
        "# Part 0.5 -- rdchem.so 檔案如何開啟"
      ]
    },
    {
      "cell_type": "code",
      "metadata": {
        "id": "IXxWMQzYMMx5"
      },
      "source": [
        "from rdkit.Chem.rdchem import Mol\r\n",
        "from rdkit.Chem import rdchem\r\n",
        "from rdkit import Chem\r\n",
        "import rdkit"
      ],
      "execution_count": 4,
      "outputs": []
    },
    {
      "cell_type": "code",
      "metadata": {
        "colab": {
          "base_uri": "https://localhost:8080/"
        },
        "id": "Uf-4avuiiBB4",
        "outputId": "2a80e538-1e4b-49ca-a900-3337a7753c4f"
      },
      "source": [
        "# 在所有地方搜尋名為(i不分大小寫)(iname ?)的資料夾(type d)\r\n",
        "! find / -iname Chem -type d\r\n",
        "print(\"----------------\")\r\n",
        "!cd /usr/local/lib/python3.7/site-packages/rdkit/Chem;ls -la"
      ],
      "execution_count": 5,
      "outputs": [
        {
          "output_type": "stream",
          "text": [
            "/usr/local/share/RDKit/Docs/Code/Chem\n",
            "/usr/local/lib/python3.7/site-packages/rdkit/Chem\n",
            "/usr/local/pkgs/rdkit-2020.09.1.0-py37hd50e099_1/share/RDKit/Docs/Code/Chem\n",
            "/usr/local/pkgs/rdkit-2020.09.1.0-py37hd50e099_1/lib/python3.7/site-packages/rdkit/Chem\n",
            "----------------\n",
            "total 17408\n",
            "drwxr-xr-x 21 root root    4096 Feb 19 12:37 .\n",
            "drwxr-xr-x 17 root root    4096 Feb 19 12:37 ..\n",
            "-rw-rw-r--  2 root root   15731 Oct 20 06:01 AllChem.py\n",
            "drwxr-xr-x  3 root root    4096 Feb 19 12:37 AtomPairs\n",
            "-rw-rw-r--  2 root root   35663 Oct 20 06:01 BRICS.py\n",
            "-rw-rw-r--  2 root root   20973 Oct 20 06:01 BuildFragmentCatalog.py\n",
            "-rw-rw-r--  2 root root     719 Oct 20 06:01 ChemicalFeatures.py\n",
            "-rw-rw-r--  2 root root     363 Oct 20 06:01 ChemicalForceFields.py\n",
            "drwxr-xr-x  3 root root    4096 Feb 19 12:37 ChemUtils\n",
            "-rw-rw-r--  2 root root    6112 Oct 20 06:01 Crippen.py\n",
            "-rw-rw-r--  2 root root    5880 Oct 20 06:01 Descriptors3D.py\n",
            "-rw-rw-r--  2 root root    7889 Oct 20 06:01 Descriptors.py\n",
            "drwxr-xr-x  3 root root    4096 Feb 19 12:37 Draw\n",
            "-rw-rw-r--  2 root root   12125 Oct 20 06:01 DSViewer.py\n",
            "-rw-rw-r--  2 root root   12070 Oct 20 06:01 EnumerateHeterocycles.py\n",
            "-rw-rw-r--  2 root root   13527 Oct 20 06:01 EnumerateStereoisomers.py\n",
            "drwxr-xr-x  3 root root    4096 Feb 19 12:37 EState\n",
            "-rw-rw-r--  2 root root     498 Oct 20 06:01 FastSDMolSupplier.py\n",
            "-rw-rw-r--  2 root root    3328 Oct 20 06:01 FeatFinderCLI.py\n",
            "drwxr-xr-x  3 root root    4096 Feb 19 12:37 FeatMaps\n",
            "drwxr-xr-x  3 root root    4096 Feb 19 12:37 Features\n",
            "-rw-rw-r--  2 root root    2162 Oct 20 06:01 FilterCatalog.py\n",
            "drwxr-xr-x  3 root root    4096 Feb 19 12:37 Fingerprints\n",
            "drwxr-xr-x  3 root root    4096 Feb 19 12:37 fmcs\n",
            "drwxr-xr-x  3 root root    4096 Feb 19 12:37 Fraggle\n",
            "-rw-rw-r--  2 root root    2420 Oct 20 06:01 FragmentCatalog.py\n",
            "-rw-rw-r--  2 root root    2268 Oct 20 06:01 FragmentMatcher.py\n",
            "-rw-rw-r--  2 root root    1619 Oct 20 06:01 Fragments.py\n",
            "-rw-rw-r--  2 root root    5470 Oct 20 06:01 FunctionalGroups.py\n",
            "-rw-rw-r--  2 root root   20296 Oct 20 06:01 GraphDescriptors.py\n",
            "-rw-rw-r--  2 root root    1365 Oct 20 06:01 Graphs.py\n",
            "-rw-rw-r--  2 root root    8601 Oct 20 06:06 inchi.py\n",
            "-rw-rw-r--  2 root root    5579 Oct 20 06:01 __init__.py\n",
            "-rw-rw-r--  2 root root    4135 Oct 20 06:01 Lipinski.py\n",
            "-rw-rw-r--  2 root root   11752 Oct 20 06:01 MACCSkeys.py\n",
            "-rw-rw-r--  2 root root   17305 Oct 20 06:01 MCS.py\n",
            "-rw-rw-r--  2 root root      84 Oct 20 06:01 MolCatalog.py\n",
            "drwxr-xr-x  3 root root    4096 Feb 19 12:37 MolDb\n",
            "drwxr-xr-x  3 root root    4096 Feb 19 12:37 MolKey\n",
            "drwxr-xr-x  3 root root    4096 Feb 19 12:37 MolStandardize\n",
            "-rw-rw-r--  2 root root   14675 Oct 20 06:01 MolSurf.py\n",
            "-rw-rw-r--  2 root root   29088 Oct 20 06:01 PandasTools.py\n",
            "drwxr-xr-x  3 root root    4096 Feb 19 12:37 Pharm2D\n",
            "drwxr-xr-x  3 root root    4096 Feb 19 12:37 Pharm3D\n",
            "-rw-rw-r--  2 root root    3261 Oct 20 06:01 PropertyMol.py\n",
            "drwxr-xr-x  2 root root    4096 Feb 19 12:37 __pycache__\n",
            "-rw-rw-r--  2 root root    8405 Oct 20 06:01 PyMol.py\n",
            "-rw-rw-r--  2 root root   11697 Oct 20 06:01 QED.py\n",
            "-rw-rw-r--  2 root root    1788 Oct 20 06:01 Randomize.py\n",
            "-rwxrwxr-x  2 root root  350904 Oct 20 06:06 rdAbbreviations.so\n",
            "-rwxrwxr-x  2 root root  145760 Oct 20 06:06 rdChemicalFeatures.so\n",
            "-rwxrwxr-x  2 root root 1736472 Oct 20 06:06 rdChemReactions.so\n",
            "-rwxrwxr-x  2 root root 3714280 Oct 20 06:06 rdchem.so\n",
            "-rwxrwxr-x  2 root root   36792 Oct 20 06:06 rdCIPLabeler.so\n",
            "-rwxrwxr-x  2 root root  212048 Oct 20 06:06 rdCoordGen.so\n",
            "-rwxrwxr-x  2 root root  124304 Oct 20 06:06 rdDepictor.so\n",
            "-rwxrwxr-x  2 root root  252184 Oct 20 06:06 rdDeprotect.so\n",
            "-rwxrwxr-x  2 root root  287576 Oct 20 06:06 rdDistGeom.so\n",
            "-rwxrwxr-x  2 root root   93120 Oct 20 06:06 rdEHTTools.so\n",
            "-rwxrwxr-x  2 root root 1317720 Oct 20 06:06 rdfiltercatalog.so\n",
            "-rwxrwxr-x  2 root root  363824 Oct 20 06:06 rdFingerprintGenerator.so\n",
            "-rwxrwxr-x  2 root root  463024 Oct 20 06:06 rdFMCS.so\n",
            "-rwxrwxr-x  2 root root  226616 Oct 20 06:06 rdForceFieldHelpers.so\n",
            "-rwxrwxr-x  2 root root  314736 Oct 20 06:06 rdfragcatalog.so\n",
            "-rwxrwxr-x  2 root root  159480 Oct 20 06:06 rdFreeSASA.so\n",
            "-rwxrwxr-x  2 root root   97656 Oct 20 06:06 rdinchi.so\n",
            "-rwxrwxr-x  2 root root  644720 Oct 20 06:06 rdMHFPFingerprint.so\n",
            "-rwxrwxr-x  2 root root   82880 Oct 20 06:06 rdMMPA.so\n",
            "-rwxrwxr-x  2 root root  284984 Oct 20 06:06 rdMolAlign.so\n",
            "-rwxrwxr-x  2 root root  251632 Oct 20 06:06 rdMolCatalog.so\n",
            "-rwxrwxr-x  2 root root  250552 Oct 20 06:06 rdMolChemicalFeatures.so\n",
            "-rwxrwxr-x  2 root root  807144 Oct 20 06:06 rdMolDescriptors.so\n",
            "-rwxrwxr-x  2 root root  159280 Oct 20 06:06 rdMolEnumerator.so\n",
            "-rwxrwxr-x  2 root root 1582232 Oct 20 06:06 rdmolfiles.so\n",
            "-rwxrwxr-x  2 root root   48760 Oct 20 06:06 rdMolHash.so\n",
            "-rwxrwxr-x  2 root root  105808 Oct 20 06:06 rdMolInterchange.so\n",
            "-rwxrwxr-x  2 root root  988576 Oct 20 06:06 rdmolops.so\n",
            "-rwxrwxr-x  2 root root  176856 Oct 20 06:06 rdMolTransforms.so\n",
            "-rwxrwxr-x  2 root root   41096 Oct 20 06:06 rdPartialCharges.so\n",
            "-rwxrwxr-x  2 root root  386728 Oct 20 06:06 rdqueries.so\n",
            "-rwxrwxr-x  2 root root   70712 Oct 20 06:06 rdReducedGraphs.so\n",
            "-rwxrwxr-x  2 root root  307104 Oct 20 06:06 rdRGroupDecomposition.so\n",
            "-rwxrwxr-x  2 root root  162144 Oct 20 06:06 rdShapeHelpers.so\n",
            "-rwxrwxr-x  2 root root   65136 Oct 20 06:06 rdSLNParse.so\n",
            "-rwxrwxr-x  2 root root  486616 Oct 20 06:06 rdSubstructLibrary.so\n",
            "-rwxrwxr-x  2 root root  290728 Oct 20 06:06 rdTautomerQuery.so\n",
            "-rwxrwxr-x  2 root root  202448 Oct 20 06:06 rdtrajectory.so\n",
            "-rw-rw-r--  2 root root   24160 Oct 20 06:01 Recap.py\n",
            "-rw-rw-r--  2 root root     562 Oct 20 06:01 ReducedGraphs.py\n",
            "-rw-rw-r--  2 root root   10606 Oct 20 06:01 SaltRemover.py\n",
            "-rw-rw-r--  2 root root    2807 Oct 20 06:01 SATIS.py\n",
            "drwxr-xr-x  3 root root    4096 Feb 19 12:37 Scaffolds\n",
            "-rw-rw-r--  2 root root     931 Oct 20 06:01 ShowMols.py\n",
            "drwxr-xr-x  3 root root    4096 Feb 19 12:37 SimpleEnum\n",
            "drwxr-xr-x  3 root root    4096 Feb 19 12:37 Subshape\n",
            "drwxr-xr-x  3 root root    4096 Feb 19 12:37 Suppliers\n",
            "-rw-rw-r--  2 root root    3288 Oct 20 06:01 TemplateAlign.py\n",
            "-rw-rw-r--  2 root root   24314 Oct 20 06:01 TorsionFingerprints.py\n"
          ],
          "name": "stdout"
        }
      ]
    },
    {
      "cell_type": "code",
      "metadata": {
        "id": "8mM0g3msQRV5"
      },
      "source": [
        "!objdump -tT /usr/local/lib/python3.7/site-packages/rdkit/Chem/rdchem.so\r\n",
        "# rdchem.so 檔接下來還可以import Mol 但不知道如何查看\r\n",
        "# 太多以省略"
      ],
      "execution_count": null,
      "outputs": []
    },
    {
      "cell_type": "markdown",
      "metadata": {
        "id": "ZjtWVUbfLWjF"
      },
      "source": [
        "#Part 1"
      ]
    },
    {
      "cell_type": "code",
      "metadata": {
        "id": "5pIaHeahbtWO"
      },
      "source": [
        "from rdkit import Chem\r\n",
        "from rdkit.Chem import Draw\r\n",
        "from rdkit.Chem.Draw import IPythonConsole\r\n",
        "from rdkit.Chem import Descriptors\r\n",
        "from rdkit.Chem import AllChem\r\n",
        "from rdkit import DataStructs\r\n",
        "import numpy as np"
      ],
      "execution_count": 7,
      "outputs": []
    },
    {
      "cell_type": "code",
      "metadata": {
        "colab": {
          "base_uri": "https://localhost:8080/",
          "height": 202
        },
        "id": "Od-MPjMYdyg-",
        "outputId": "b80d2c0c-1b9d-47a0-9c15-b47f2ae31aa7"
      },
      "source": [
        "butane = Chem.MolFromSmiles(\"CCCC\")\r\n",
        "print(butane,\"\\n\")\r\n",
        "butane"
      ],
      "execution_count": 8,
      "outputs": [
        {
          "output_type": "stream",
          "text": [
            "<rdkit.Chem.rdchem.Mol object at 0x7f65dc63fa30> \n",
            "\n"
          ],
          "name": "stdout"
        },
        {
          "output_type": "execute_result",
          "data": {
            "image/png": "[encoded data removed]",
            "text/plain": [
              "<rdkit.Chem.rdchem.Mol at 0x7f65dc63fa30>"
            ]
          },
          "metadata": {
            "tags": []
          },
          "execution_count": 8
        }
      ]
    },
    {
      "cell_type": "markdown",
      "metadata": {
        "id": "6gxBTiNneol_"
      },
      "source": [
        "You can turn molecule to SMILES code in this website\r\n",
        "http://www.cheminfo.org/flavor/malaria/Utilities/SMILES_generator___checker/index.html"
      ]
    },
    {
      "cell_type": "code",
      "metadata": {
        "colab": {
          "base_uri": "https://localhost:8080/"
        },
        "id": "LLW8CRUqehrJ",
        "outputId": "6342af3f-f89e-4ff9-cfd7-d999239b3b40"
      },
      "source": [
        "smiles = Chem.MolToSmiles(butane)\r\n",
        "print(smiles)"
      ],
      "execution_count": 9,
      "outputs": [
        {
          "output_type": "stream",
          "text": [
            "CCCC\n"
          ],
          "name": "stdout"
        }
      ]
    },
    {
      "cell_type": "code",
      "metadata": {
        "colab": {
          "base_uri": "https://localhost:8080/"
        },
        "id": "6LZnsSmWfC_M",
        "outputId": "f0d5a264-5e7f-4855-99c7-2b5bb567feb2"
      },
      "source": [
        "mw = Descriptors.MolWt(butane)\r\n",
        "print(\"molecular weight(分子量) = \",mw)"
      ],
      "execution_count": 10,
      "outputs": [
        {
          "output_type": "stream",
          "text": [
            "molecular weight(分子量) =  58.123999999999995\n"
          ],
          "name": "stdout"
        }
      ]
    },
    {
      "cell_type": "code",
      "metadata": {
        "colab": {
          "base_uri": "https://localhost:8080/",
          "height": 217
        },
        "id": "M_ERr_SPf_4e",
        "outputId": "1451886e-787d-4dd7-9a49-90b462da08d3"
      },
      "source": [
        "smiles_list = [\"C(C(=O)O)N\",\"N[C@@H](CC1=CC=CC=C1)C(O)=O\",\"O=C([C@H](CC1=CNC=N1)N)O\",\"C([C@@H](C(=O)O)N)S\"]\r\n",
        "name_list = [\"Glycine\",\"Phenylalanine\",\"Histidine\",\"Cysteine\"]\r\n",
        "mol_list = []\r\n",
        "for smiles in smiles_list:\r\n",
        "  mol = Chem.MolFromSmiles(smiles)\r\n",
        "  mol_list.append(mol)\r\n",
        "img = Draw.MolsToGridImage(mol_list,molsPerRow = 4)\r\n",
        "img"
      ],
      "execution_count": 11,
      "outputs": [
        {
          "output_type": "execute_result",
          "data": {
            "image/png": "[encoded data removed]",
            "text/plain": [
              "<IPython.core.display.Image object>"
            ]
          },
          "metadata": {
            "tags": []
          },
          "execution_count": 11
        }
      ]
    },
    {
      "cell_type": "code",
      "metadata": {
        "colab": {
          "base_uri": "https://localhost:8080/",
          "height": 239
        },
        "id": "MukQilwV1XG_",
        "outputId": "91c72f83-ea2c-46e7-c060-4a5aecd26986"
      },
      "source": [
        "s_mol = Chem.MolFromFASTA(\"QQQ\")\r\n",
        "s_fasta = Chem.MolToFASTA(s_mol).replace(\"\\n\",\"\")\r\n",
        "s_smart = Chem.MolToSmarts(s_mol)\r\n",
        "s_smile = Chem.MolToSmiles(s_mol)\r\n",
        "s_pdb = Chem.MolToPDBBlock(s_mol)\r\n",
        "\r\n",
        "print(\"s_smile =\",s_smile)\r\n",
        "print(\"s_smart =\",s_smart)\r\n",
        "print(\"s_fasta =\",s_fasta)\r\n",
        "s_mol"
      ],
      "execution_count": 12,
      "outputs": [
        {
          "output_type": "stream",
          "text": [
            "s_smile = NC(=O)CC[C@H](N)C(=O)N[C@@H](CCC(N)=O)C(=O)N[C@@H](CCC(N)=O)C(=O)O\n",
            "s_smart = [#7]-[#6@](-[#6](=[#8])-[#7]-[#6@](-[#6](=[#8])-[#7]-[#6@](-[#6](=[#8])-[#8])-[#6]-[#6]-[#6](=[#8])-[#7])-[#6]-[#6]-[#6](=[#8])-[#7])-[#6]-[#6]-[#6](=[#8])-[#7]\n",
            "s_fasta = >QQQ\n"
          ],
          "name": "stdout"
        },
        {
          "output_type": "execute_result",
          "data": {
            "image/png": "[encoded data removed]",
            "text/plain": [
              "<rdkit.Chem.rdchem.Mol at 0x7f65dc63fe40>"
            ]
          },
          "metadata": {
            "tags": []
          },
          "execution_count": 12
        }
      ]
    },
    {
      "cell_type": "code",
      "metadata": {
        "colab": {
          "base_uri": "https://localhost:8080/"
        },
        "id": "rjnsdk4O9MFN",
        "outputId": "dc364cc1-f347-44a7-aa70-686183f03cd8"
      },
      "source": [
        "print(\"S_PDB of QQQ:\")\r\n",
        "print(s_pdb)"
      ],
      "execution_count": 13,
      "outputs": [
        {
          "output_type": "stream",
          "text": [
            "S_PDB of QQQ:\n",
            "ATOM      1  N   GLN A   1       0.000   0.000   0.000  1.00  0.00           N  \n",
            "ATOM      2  CA  GLN A   1       0.000   0.000   0.000  1.00  0.00           C  \n",
            "ATOM      3  C   GLN A   1       0.000   0.000   0.000  1.00  0.00           C  \n",
            "ATOM      4  O   GLN A   1       0.000   0.000   0.000  1.00  0.00           O  \n",
            "ATOM      5  CB  GLN A   1       0.000   0.000   0.000  1.00  0.00           C  \n",
            "ATOM      6  CG  GLN A   1       0.000   0.000   0.000  1.00  0.00           C  \n",
            "ATOM      7  CD  GLN A   1       0.000   0.000   0.000  1.00  0.00           C  \n",
            "ATOM      8  OE1 GLN A   1       0.000   0.000   0.000  1.00  0.00           O  \n",
            "ATOM      9  NE2 GLN A   1       0.000   0.000   0.000  1.00  0.00           N  \n",
            "ATOM     10  N   GLN A   2       0.000   0.000   0.000  1.00  0.00           N  \n",
            "ATOM     11  CA  GLN A   2       0.000   0.000   0.000  1.00  0.00           C  \n",
            "ATOM     12  C   GLN A   2       0.000   0.000   0.000  1.00  0.00           C  \n",
            "ATOM     13  O   GLN A   2       0.000   0.000   0.000  1.00  0.00           O  \n",
            "ATOM     14  CB  GLN A   2       0.000   0.000   0.000  1.00  0.00           C  \n",
            "ATOM     15  CG  GLN A   2       0.000   0.000   0.000  1.00  0.00           C  \n",
            "ATOM     16  CD  GLN A   2       0.000   0.000   0.000  1.00  0.00           C  \n",
            "ATOM     17  OE1 GLN A   2       0.000   0.000   0.000  1.00  0.00           O  \n",
            "ATOM     18  NE2 GLN A   2       0.000   0.000   0.000  1.00  0.00           N  \n",
            "ATOM     19  N   GLN A   3       0.000   0.000   0.000  1.00  0.00           N  \n",
            "ATOM     20  CA  GLN A   3       0.000   0.000   0.000  1.00  0.00           C  \n",
            "ATOM     21  C   GLN A   3       0.000   0.000   0.000  1.00  0.00           C  \n",
            "ATOM     22  O   GLN A   3       0.000   0.000   0.000  1.00  0.00           O  \n",
            "ATOM     23  CB  GLN A   3       0.000   0.000   0.000  1.00  0.00           C  \n",
            "ATOM     24  CG  GLN A   3       0.000   0.000   0.000  1.00  0.00           C  \n",
            "ATOM     25  CD  GLN A   3       0.000   0.000   0.000  1.00  0.00           C  \n",
            "ATOM     26  OE1 GLN A   3       0.000   0.000   0.000  1.00  0.00           O  \n",
            "ATOM     27  NE2 GLN A   3       0.000   0.000   0.000  1.00  0.00           N  \n",
            "ATOM     28  OXT GLN A   3       0.000   0.000   0.000  1.00  0.00           O  \n",
            "CONECT    1    2\n",
            "CONECT    2    3    5\n",
            "CONECT    3    4    4   10\n",
            "CONECT    5    6\n",
            "CONECT    6    7\n",
            "CONECT    7    8    8    9\n",
            "CONECT   10   11\n",
            "CONECT   11   12   14\n",
            "CONECT   12   13   13   19\n",
            "CONECT   14   15\n",
            "CONECT   15   16\n",
            "CONECT   16   17   17   18\n",
            "CONECT   19   20\n",
            "CONECT   20   21   23\n",
            "CONECT   21   22   22   28\n",
            "CONECT   23   24\n",
            "CONECT   24   25\n",
            "CONECT   25   26   26   27\n",
            "END\n",
            "\n"
          ],
          "name": "stdout"
        }
      ]
    },
    {
      "cell_type": "markdown",
      "metadata": {
        "id": "IglINiEl-oDh"
      },
      "source": [
        "**PDB file Format** <br>\r\n",
        "<a href=\"https://www.youtube.com/watch?v=_1q7sfjl2Kw\">Computational Chemistry 1.2 - PDB File Format</a><br>\r\n",
        "<a href=\"https://www.cnblogs.com/xiaojikuaipao/p/7256846.html\">分子对接基础知识</a>\r\n"
      ]
    },
    {
      "cell_type": "code",
      "metadata": {
        "colab": {
          "base_uri": "https://localhost:8080/"
        },
        "id": "VnCZ0ijWdCi8",
        "outputId": "c889cfea-a3f1-46dc-9768-7315abf641ac"
      },
      "source": [
        "pattern = []\r\n",
        "pattern.append(Chem.MolFromSmiles(\"S\"))\r\n",
        "pattern.append(Chem.MolFromSmiles(\"C(=O)O\"))\r\n",
        "pattern.append(Chem.MolFromSmiles(\"CC(N)C\"))\r\n",
        "pattern.append(Chem.MolFromSmarts(\"[#5]\"))\r\n",
        "molecule = [\"S\",\"C(=O)O\",\"CC(N)C\",\"[#5]\"]\r\n",
        "for n,p in enumerate(pattern):\r\n",
        "  print(molecule[n],end=\"\\t \")\r\n",
        "  for mol in mol_list:\r\n",
        "    print(mol.HasSubstructMatch(p),end=\"\\t\")\r\n",
        "  print(\"\")"
      ],
      "execution_count": 14,
      "outputs": [
        {
          "output_type": "stream",
          "text": [
            "S\t False\tFalse\tFalse\tTrue\t\n",
            "C(=O)O\t True\tTrue\tTrue\tTrue\t\n",
            "CC(N)C\t False\tTrue\tTrue\tTrue\t\n",
            "[#5]\t False\tFalse\tFalse\tFalse\t\n"
          ],
          "name": "stdout"
        }
      ]
    },
    {
      "cell_type": "markdown",
      "metadata": {
        "id": "d5AB5fKadAnx"
      },
      "source": [
        "#Part 2"
      ]
    },
    {
      "cell_type": "code",
      "metadata": {
        "colab": {
          "base_uri": "https://localhost:8080/",
          "height": 167
        },
        "id": "m3XfY_iedgTN",
        "outputId": "7da3cf86-61eb-4842-bf30-26d769ff941a"
      },
      "source": [
        "glycine = mol_list[0]\r\n",
        "glycine"
      ],
      "execution_count": 15,
      "outputs": [
        {
          "output_type": "execute_result",
          "data": {
            "image/png": "[encoded data removed]",
            "text/plain": [
              "<rdkit.Chem.rdchem.Mol at 0x7f65dc6571c0>"
            ]
          },
          "metadata": {
            "tags": []
          },
          "execution_count": 15
        }
      ]
    },
    {
      "cell_type": "code",
      "metadata": {
        "colab": {
          "base_uri": "https://localhost:8080/"
        },
        "id": "AjaQl5NWassa",
        "outputId": "1ccb890f-1af8-4810-c99a-2fb4c6981c03"
      },
      "source": [
        "print(glycine)"
      ],
      "execution_count": 16,
      "outputs": [
        {
          "output_type": "stream",
          "text": [
            "<rdkit.Chem.rdchem.Mol object at 0x7f65dc6571c0>\n"
          ],
          "name": "stdout"
        }
      ]
    },
    {
      "cell_type": "code",
      "metadata": {
        "colab": {
          "base_uri": "https://localhost:8080/"
        },
        "id": "BOVYr9oBkO5J",
        "outputId": "345a14f6-c445-4679-8699-199d1245fa35"
      },
      "source": [
        "bi = {}\r\n",
        "fp = AllChem.GetMorganFingerprintAsBitVect(glycine,radius=2,nBits=1024,bitInfo=bi)\r\n",
        "fp_arr = np.zeros((1,))\r\n",
        "DataStructs.ConvertToNumpyArray(fp,fp_arr)\r\n",
        "print(\"fp:\",np.nonzero(fp_arr))\r\n",
        "print(\"bi:\",bi)\r\n",
        "fp2 = []\r\n",
        "[fp2.append(x) for x in fp.GetOnBits()] \r\n",
        "print(\"fp:\",fp2)"
      ],
      "execution_count": 17,
      "outputs": [
        {
          "output_type": "stream",
          "text": [
            "fp: (array([ 27,  80, 147, 389, 650, 713, 807, 893, 966, 981]),)\n",
            "bi: {27: ((0, 1),), 80: ((0, 0),), 147: ((4, 0),), 389: ((3, 1),), 650: ((2, 0),), 713: ((1, 1),), 807: ((1, 0), (3, 0)), 893: ((2, 1),), 966: ((0, 2),), 981: ((4, 1),)}\n",
            "fp: [27, 80, 147, 389, 650, 713, 807, 893, 966, 981]\n"
          ],
          "name": "stdout"
        }
      ]
    },
    {
      "cell_type": "code",
      "metadata": {
        "colab": {
          "base_uri": "https://localhost:8080/",
          "height": 661
        },
        "id": "_cUNDkZIk3s8",
        "outputId": "aee2f4c4-4e65-4677-80ac-48f4a1609843"
      },
      "source": [
        "prints = []\r\n",
        "# for x in fp.GetOnBits():\r\n",
        "#   prints.append((glycine,x,bi))\r\n",
        "# for x in prints:\r\n",
        "  # print(x)\r\n",
        "[prints.append((glycine,x,bi)) for x in fp.GetOnBits()] \r\n",
        "[print(x) for x in prints] \r\n",
        "Draw.DrawMorganBits(prints,molsPerRow=4,legends=[str(x) for x in fp.GetOnBits()])"
      ],
      "execution_count": 18,
      "outputs": [
        {
          "output_type": "stream",
          "text": [
            "(<rdkit.Chem.rdchem.Mol object at 0x7f65dc6571c0>, 27, {27: ((0, 1),), 80: ((0, 0),), 147: ((4, 0),), 389: ((3, 1),), 650: ((2, 0),), 713: ((1, 1),), 807: ((1, 0), (3, 0)), 893: ((2, 1),), 966: ((0, 2),), 981: ((4, 1),)})\n",
            "(<rdkit.Chem.rdchem.Mol object at 0x7f65dc6571c0>, 80, {27: ((0, 1),), 80: ((0, 0),), 147: ((4, 0),), 389: ((3, 1),), 650: ((2, 0),), 713: ((1, 1),), 807: ((1, 0), (3, 0)), 893: ((2, 1),), 966: ((0, 2),), 981: ((4, 1),)})\n",
            "(<rdkit.Chem.rdchem.Mol object at 0x7f65dc6571c0>, 147, {27: ((0, 1),), 80: ((0, 0),), 147: ((4, 0),), 389: ((3, 1),), 650: ((2, 0),), 713: ((1, 1),), 807: ((1, 0), (3, 0)), 893: ((2, 1),), 966: ((0, 2),), 981: ((4, 1),)})\n",
            "(<rdkit.Chem.rdchem.Mol object at 0x7f65dc6571c0>, 389, {27: ((0, 1),), 80: ((0, 0),), 147: ((4, 0),), 389: ((3, 1),), 650: ((2, 0),), 713: ((1, 1),), 807: ((1, 0), (3, 0)), 893: ((2, 1),), 966: ((0, 2),), 981: ((4, 1),)})\n",
            "(<rdkit.Chem.rdchem.Mol object at 0x7f65dc6571c0>, 650, {27: ((0, 1),), 80: ((0, 0),), 147: ((4, 0),), 389: ((3, 1),), 650: ((2, 0),), 713: ((1, 1),), 807: ((1, 0), (3, 0)), 893: ((2, 1),), 966: ((0, 2),), 981: ((4, 1),)})\n",
            "(<rdkit.Chem.rdchem.Mol object at 0x7f65dc6571c0>, 713, {27: ((0, 1),), 80: ((0, 0),), 147: ((4, 0),), 389: ((3, 1),), 650: ((2, 0),), 713: ((1, 1),), 807: ((1, 0), (3, 0)), 893: ((2, 1),), 966: ((0, 2),), 981: ((4, 1),)})\n",
            "(<rdkit.Chem.rdchem.Mol object at 0x7f65dc6571c0>, 807, {27: ((0, 1),), 80: ((0, 0),), 147: ((4, 0),), 389: ((3, 1),), 650: ((2, 0),), 713: ((1, 1),), 807: ((1, 0), (3, 0)), 893: ((2, 1),), 966: ((0, 2),), 981: ((4, 1),)})\n",
            "(<rdkit.Chem.rdchem.Mol object at 0x7f65dc6571c0>, 893, {27: ((0, 1),), 80: ((0, 0),), 147: ((4, 0),), 389: ((3, 1),), 650: ((2, 0),), 713: ((1, 1),), 807: ((1, 0), (3, 0)), 893: ((2, 1),), 966: ((0, 2),), 981: ((4, 1),)})\n",
            "(<rdkit.Chem.rdchem.Mol object at 0x7f65dc6571c0>, 966, {27: ((0, 1),), 80: ((0, 0),), 147: ((4, 0),), 389: ((3, 1),), 650: ((2, 0),), 713: ((1, 1),), 807: ((1, 0), (3, 0)), 893: ((2, 1),), 966: ((0, 2),), 981: ((4, 1),)})\n",
            "(<rdkit.Chem.rdchem.Mol object at 0x7f65dc6571c0>, 981, {27: ((0, 1),), 80: ((0, 0),), 147: ((4, 0),), 389: ((3, 1),), 650: ((2, 0),), 713: ((1, 1),), 807: ((1, 0), (3, 0)), 893: ((2, 1),), 966: ((0, 2),), 981: ((4, 1),)})\n"
          ],
          "name": "stdout"
        },
        {
          "output_type": "execute_result",
          "data": {
            "image/png": "[encoded data removed]",
            "text/plain": [
              "<PIL.PngImagePlugin.PngImageFile image mode=RGB size=600x450 at 0x7F65DC665668>"
            ]
          },
          "metadata": {
            "tags": []
          },
          "execution_count": 18
        }
      ]
    },
    {
      "cell_type": "code",
      "metadata": {
        "colab": {
          "base_uri": "https://localhost:8080/",
          "height": 167
        },
        "id": "UUvGZwWtzRBu",
        "outputId": "63699609-bebf-4b03-c629-50dda325404e"
      },
      "source": [
        "def add_atom_index(mol):\r\n",
        "    mol_2 = mol\r\n",
        "    atoms = mol_2.GetNumAtoms()\r\n",
        "    for i in range( atoms ):\r\n",
        "      mol_2.GetAtomWithIdx(i).SetProp('molAtomMapNumber', str(i))      \r\n",
        "      # mol_2.GetAtomWithIdx(i).SetProp('molAtomMapNumber', str(mol_2.GetAtomWithIdx(i).GetIdx()))\r\n",
        "    return mol_2\r\n",
        "glycine_index = add_atom_index(glycine)\r\n",
        "glycine_index"
      ],
      "execution_count": 19,
      "outputs": [
        {
          "output_type": "execute_result",
          "data": {
            "image/png": "[encoded data removed]",
            "text/plain": [
              "<rdkit.Chem.rdchem.Mol at 0x7f65dc6571c0>"
            ]
          },
          "metadata": {
            "tags": []
          },
          "execution_count": 19
        }
      ]
    },
    {
      "cell_type": "markdown",
      "metadata": {
        "id": "L6TR4TN6yyUb"
      },
      "source": [
        "<font size=\"2\">bi: {27: ((0, 1),), 80: ((0, 0),), 147: ((4, 0),), 389: ((3, 1),), 650: ((2, 0),), 713: ((1, 1),), 807: ((1, 0), (3, 0)), 893: ((2, 1),), 966: ((0, 2),), 981: ((4, 1),)},</font><br>\r\n",
        "<font size=\"4\">glycine = \"C0(C1(=O2)O3)N4\"</font><br>\r\n",
        "<font size=\"4\">bi: fp_num:((atom1_num,radius1),(atom2_num,radius2),...),</font><br>\r\n",
        "<font size=\"4\">bi: 形狀編號:((原子編號,半徑),),</font><br>\r\n",
        "\r\n",
        "\r\n",
        "\r\n"
      ]
    },
    {
      "cell_type": "code",
      "metadata": {
        "colab": {
          "base_uri": "https://localhost:8080/",
          "height": 205
        },
        "id": "K2mM6UdSvKVk",
        "outputId": "815338db-f764-4f69-b7ac-15557974dd3f"
      },
      "source": [
        "# get one fp on epinephrine\r\n",
        "epinephrine = Chem.MolFromSmiles('CNC[C@H](O)c1ccc(O)c(O)c1')\r\n",
        "bi = {}\r\n",
        "prints = []\r\n",
        "fp = Chem.rdMolDescriptors.GetMorganFingerprintAsBitVect(epinephrine, radius=2, bitInfo=bi)\r\n",
        "print(bi)\r\n",
        "Draw.DrawMorganBit(epinephrine,1784,bi)"
      ],
      "execution_count": 20,
      "outputs": [
        {
          "output_type": "stream",
          "text": [
            "{1: ((3, 0),), 80: ((2, 0),), 227: ((4, 1),), 315: ((8, 2),), 589: ((10, 2),), 606: ((2, 1),), 632: ((3, 2),), 807: ((4, 0), (9, 0), (11, 0)), 875: ((12, 1),), 1057: ((0, 0),), 1152: ((1, 0),), 1362: ((3, 1),), 1365: ((5, 1),), 1367: ((1, 2),), 1380: ((5, 0), (8, 0), (10, 0)), 1430: ((0, 1),), 1434: ((5, 2),), 1475: ((7, 2),), 1602: ((9, 1), (11, 1)), 1607: ((8, 1), (10, 1)), 1750: ((6, 1), (7, 1)), 1784: ((12, 2),), 1853: ((6, 2),), 1868: ((2, 2),), 1873: ((6, 0), (7, 0), (12, 0)), 1995: ((1, 1),)}\n"
          ],
          "name": "stdout"
        },
        {
          "output_type": "execute_result",
          "data": {
            "image/png": "[encoded data removed]",
            "text/plain": [
              "<PIL.PngImagePlugin.PngImageFile image mode=RGB size=150x150 at 0x7F65DC6652B0>"
            ]
          },
          "metadata": {
            "tags": []
          },
          "execution_count": 20
        }
      ]
    },
    {
      "cell_type": "markdown",
      "metadata": {
        "id": "Vk3fj6SKnDWu"
      },
      "source": [
        "摩根分子指纹计算https://www.jianshu.com/p/215defebb77d"
      ]
    },
    {
      "cell_type": "code",
      "metadata": {
        "colab": {
          "base_uri": "https://localhost:8080/",
          "height": 167
        },
        "id": "ZCm3JPopwyXD",
        "outputId": "d777b79b-ec5f-4f54-8255-8a187ee1387d"
      },
      "source": [
        "cysteine = mol_list[3]\r\n",
        "cysteine"
      ],
      "execution_count": 21,
      "outputs": [
        {
          "output_type": "execute_result",
          "data": {
            "image/png": "[encoded data removed]",
            "text/plain": [
              "<rdkit.Chem.rdchem.Mol at 0x7f65dc657210>"
            ]
          },
          "metadata": {
            "tags": []
          },
          "execution_count": 21
        }
      ]
    },
    {
      "cell_type": "code",
      "metadata": {
        "colab": {
          "base_uri": "https://localhost:8080/"
        },
        "id": "1S_R1PiHxnT4",
        "outputId": "81448dd0-378d-41a7-c3ba-a4203d82424d"
      },
      "source": [
        "bi = {}\r\n",
        "fp2 = AllChem.GetMorganFingerprintAsBitVect(cysteine,2,nBits=1024,bitInfo=bi)\r\n",
        "print(\"cys\",list(fp2.GetOnBits()))\r\n",
        "print(\"gly\",list(fp.GetOnBits()))\r\n",
        "print(\"\")\r\n",
        "\r\n",
        "common = set(fp2.GetOnBits()) & set(fp.GetOnBits())\r\n",
        "print(\"Common = \",common)\r\n",
        "combined = set(fp2.GetOnBits()) | set(fp.GetOnBits())\r\n",
        "print(\"Combined = \",combined)\r\n",
        "print(\"Common/Combined = \",len(common)/len(combined))\r\n",
        "print(\"Similarity = \",DataStructs.TanimotoSimilarity(fp,fp2))"
      ],
      "execution_count": 22,
      "outputs": [
        {
          "output_type": "stream",
          "text": [
            "cys [1, 48, 80, 147, 229, 321, 389, 403, 435, 650, 786, 807, 820, 825, 893, 902]\n",
            "gly [1, 80, 227, 315, 589, 606, 632, 807, 875, 1057, 1152, 1362, 1365, 1367, 1380, 1430, 1434, 1475, 1602, 1607, 1750, 1784, 1853, 1868, 1873, 1995]\n",
            "\n",
            "Common =  {80, 1, 807}\n",
            "Combined =  {1152, 1, 389, 902, 650, 786, 147, 403, 1430, 1434, 1057, 807, 48, 435, 820, 825, 315, 1853, 321, 1602, 1475, 1607, 1995, 1868, 589, 80, 1873, 1362, 1365, 1750, 1367, 606, 227, 1380, 229, 875, 632, 1784, 893}\n",
            "Common/Combined =  0.07692307692307693\n",
            "Similarity =  0.07692307692307693\n"
          ],
          "name": "stdout"
        }
      ]
    }
  ]
}