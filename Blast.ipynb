{
  "nbformat": 4,
  "nbformat_minor": 0,
  "metadata": {
    "colab": {
      "name": "Blast.ipynb",
      "provenance": []
    },
    "kernelspec": {
      "name": "python3",
      "display_name": "Python 3"
    }
  },
  "cells": [
    {
      "cell_type": "markdown",
      "metadata": {
        "id": "RJfLU0nn48hK"
      },
      "source": [
        "#第0步：安裝套件"
      ]
    },
    {
      "cell_type": "markdown",
      "metadata": {
        "id": "-XLC5cbVmCYk"
      },
      "source": [
        "### install conda"
      ]
    },
    {
      "cell_type": "code",
      "metadata": {
        "id": "V5hK7IbD6qmO",
        "colab": {
          "base_uri": "https://localhost:8080/"
        },
        "outputId": "ce9b4368-27d7-4500-8ea8-a1db1b5a89df"
      },
      "source": [
        "# INSTALL CONDA ON GOOGLE COLAB\r\n",
        "! wget https://repo.anaconda.com/miniconda/Miniconda3-py37_4.8.2-Linux-x86_64.sh\r\n",
        "! chmod +x Miniconda3-py37_4.8.2-Linux-x86_64.sh\r\n",
        "! bash ./Miniconda3-py37_4.8.2-Linux-x86_64.sh -b -f -p /usr/local\r\n",
        "import sys\r\n",
        "sys.path.append('/usr/local/lib/python3.7/site-packages/')"
      ],
      "execution_count": 1,
      "outputs": [
        {
          "output_type": "stream",
          "text": [
            "--2021-02-19 02:56:10--  https://repo.anaconda.com/miniconda/Miniconda3-py37_4.8.2-Linux-x86_64.sh\n",
            "Resolving repo.anaconda.com (repo.anaconda.com)... 104.16.130.3, 104.16.131.3, 2606:4700::6810:8203, ...\n",
            "Connecting to repo.anaconda.com (repo.anaconda.com)|104.16.130.3|:443... connected.\n",
            "HTTP request sent, awaiting response... 200 OK\n",
            "Length: 85055499 (81M) [application/x-sh]\n",
            "Saving to: ‘Miniconda3-py37_4.8.2-Linux-x86_64.sh’\n",
            "\n",
            "Miniconda3-py37_4.8 100%[===================>]  81.12M   135MB/s    in 0.6s    \n",
            "\n",
            "2021-02-19 02:56:11 (135 MB/s) - ‘Miniconda3-py37_4.8.2-Linux-x86_64.sh’ saved [85055499/85055499]\n",
            "\n",
            "PREFIX=/usr/local\n",
            "Unpacking payload ...\n",
            "Collecting package metadata (current_repodata.json): - \b\b\\ \b\bdone\n",
            "Solving environment: / \b\b- \b\bdone\n",
            "\n",
            "## Package Plan ##\n",
            "\n",
            "  environment location: /usr/local\n",
            "\n",
            "  added / updated specs:\n",
            "    - _libgcc_mutex==0.1=main\n",
            "    - asn1crypto==1.3.0=py37_0\n",
            "    - ca-certificates==2020.1.1=0\n",
            "    - certifi==2019.11.28=py37_0\n",
            "    - cffi==1.14.0=py37h2e261b9_0\n",
            "    - chardet==3.0.4=py37_1003\n",
            "    - conda-package-handling==1.6.0=py37h7b6447c_0\n",
            "    - conda==4.8.2=py37_0\n",
            "    - cryptography==2.8=py37h1ba5d50_0\n",
            "    - idna==2.8=py37_0\n",
            "    - ld_impl_linux-64==2.33.1=h53a641e_7\n",
            "    - libedit==3.1.20181209=hc058e9b_0\n",
            "    - libffi==3.2.1=hd88cf55_4\n",
            "    - libgcc-ng==9.1.0=hdf63c60_0\n",
            "    - libstdcxx-ng==9.1.0=hdf63c60_0\n",
            "    - ncurses==6.2=he6710b0_0\n",
            "    - openssl==1.1.1d=h7b6447c_4\n",
            "    - pip==20.0.2=py37_1\n",
            "    - pycosat==0.6.3=py37h7b6447c_0\n",
            "    - pycparser==2.19=py37_0\n",
            "    - pyopenssl==19.1.0=py37_0\n",
            "    - pysocks==1.7.1=py37_0\n",
            "    - python==3.7.6=h0371630_2\n",
            "    - readline==7.0=h7b6447c_5\n",
            "    - requests==2.22.0=py37_1\n",
            "    - ruamel_yaml==0.15.87=py37h7b6447c_0\n",
            "    - setuptools==45.2.0=py37_0\n",
            "    - six==1.14.0=py37_0\n",
            "    - sqlite==3.31.1=h7b6447c_0\n",
            "    - tk==8.6.8=hbc83047_0\n",
            "    - tqdm==4.42.1=py_0\n",
            "    - urllib3==1.25.8=py37_0\n",
            "    - wheel==0.34.2=py37_0\n",
            "    - xz==5.2.4=h14c3975_4\n",
            "    - yaml==0.1.7=had09818_2\n",
            "    - zlib==1.2.11=h7b6447c_3\n",
            "\n",
            "\n",
            "The following NEW packages will be INSTALLED:\n",
            "\n",
            "  _libgcc_mutex      pkgs/main/linux-64::_libgcc_mutex-0.1-main\n",
            "  asn1crypto         pkgs/main/linux-64::asn1crypto-1.3.0-py37_0\n",
            "  ca-certificates    pkgs/main/linux-64::ca-certificates-2020.1.1-0\n",
            "  certifi            pkgs/main/linux-64::certifi-2019.11.28-py37_0\n",
            "  cffi               pkgs/main/linux-64::cffi-1.14.0-py37h2e261b9_0\n",
            "  chardet            pkgs/main/linux-64::chardet-3.0.4-py37_1003\n",
            "  conda              pkgs/main/linux-64::conda-4.8.2-py37_0\n",
            "  conda-package-han~ pkgs/main/linux-64::conda-package-handling-1.6.0-py37h7b6447c_0\n",
            "  cryptography       pkgs/main/linux-64::cryptography-2.8-py37h1ba5d50_0\n",
            "  idna               pkgs/main/linux-64::idna-2.8-py37_0\n",
            "  ld_impl_linux-64   pkgs/main/linux-64::ld_impl_linux-64-2.33.1-h53a641e_7\n",
            "  libedit            pkgs/main/linux-64::libedit-3.1.20181209-hc058e9b_0\n",
            "  libffi             pkgs/main/linux-64::libffi-3.2.1-hd88cf55_4\n",
            "  libgcc-ng          pkgs/main/linux-64::libgcc-ng-9.1.0-hdf63c60_0\n",
            "  libstdcxx-ng       pkgs/main/linux-64::libstdcxx-ng-9.1.0-hdf63c60_0\n",
            "  ncurses            pkgs/main/linux-64::ncurses-6.2-he6710b0_0\n",
            "  openssl            pkgs/main/linux-64::openssl-1.1.1d-h7b6447c_4\n",
            "  pip                pkgs/main/linux-64::pip-20.0.2-py37_1\n",
            "  pycosat            pkgs/main/linux-64::pycosat-0.6.3-py37h7b6447c_0\n",
            "  pycparser          pkgs/main/linux-64::pycparser-2.19-py37_0\n",
            "  pyopenssl          pkgs/main/linux-64::pyopenssl-19.1.0-py37_0\n",
            "  pysocks            pkgs/main/linux-64::pysocks-1.7.1-py37_0\n",
            "  python             pkgs/main/linux-64::python-3.7.6-h0371630_2\n",
            "  readline           pkgs/main/linux-64::readline-7.0-h7b6447c_5\n",
            "  requests           pkgs/main/linux-64::requests-2.22.0-py37_1\n",
            "  ruamel_yaml        pkgs/main/linux-64::ruamel_yaml-0.15.87-py37h7b6447c_0\n",
            "  setuptools         pkgs/main/linux-64::setuptools-45.2.0-py37_0\n",
            "  six                pkgs/main/linux-64::six-1.14.0-py37_0\n",
            "  sqlite             pkgs/main/linux-64::sqlite-3.31.1-h7b6447c_0\n",
            "  tk                 pkgs/main/linux-64::tk-8.6.8-hbc83047_0\n",
            "  tqdm               pkgs/main/noarch::tqdm-4.42.1-py_0\n",
            "  urllib3            pkgs/main/linux-64::urllib3-1.25.8-py37_0\n",
            "  wheel              pkgs/main/linux-64::wheel-0.34.2-py37_0\n",
            "  xz                 pkgs/main/linux-64::xz-5.2.4-h14c3975_4\n",
            "  yaml               pkgs/main/linux-64::yaml-0.1.7-had09818_2\n",
            "  zlib               pkgs/main/linux-64::zlib-1.2.11-h7b6447c_3\n",
            "\n",
            "\n",
            "Preparing transaction: | \b\b/ \b\b- \b\b\\ \b\bdone\n",
            "Executing transaction: / \b\b- \b\b\\ \b\b| \b\b/ \b\b- \b\b\\ \b\b| \b\b/ \b\b- \b\b\\ \b\b| \b\b/ \b\b- \b\b\\ \b\b| \b\bdone\n",
            "installation finished.\n",
            "WARNING:\n",
            "    You currently have a PYTHONPATH environment variable set. This may cause\n",
            "    unexpected behavior when running the Python interpreter in Miniconda3.\n",
            "    For best results, please verify that your PYTHONPATH only points to\n",
            "    directories of packages that are compatible with the Python interpreter\n",
            "    in Miniconda3: /usr/local\n"
          ],
          "name": "stdout"
        }
      ]
    },
    {
      "cell_type": "markdown",
      "metadata": {
        "id": "hGTXgM8zmLLs"
      },
      "source": [
        "### install library"
      ]
    },
    {
      "cell_type": "code",
      "metadata": {
        "colab": {
          "base_uri": "https://localhost:8080/"
        },
        "id": "c8TAeP1A7qke",
        "outputId": "bc4a04e6-e5cd-4b8a-f0a6-2324185be148"
      },
      "source": [
        "!conda install -c bioconda blast\r\n",
        "!conda install perl-digest-md5    # blast安裝perl模組的方法"
      ],
      "execution_count": 2,
      "outputs": [
        {
          "output_type": "stream",
          "text": [
            "Collecting package metadata (current_repodata.json): - \b\b\\ \b\b| \b\b/ \b\b- \b\b\\ \b\b| \b\b/ \b\b- \b\b\\ \b\b| \b\b/ \b\b- \b\b\\ \b\b| \b\b/ \b\b- \b\b\\ \b\b| \b\b/ \b\b- \b\b\\ \b\b| \b\b/ \b\b- \b\b\\ \b\b| \b\b/ \b\b- \b\b\\ \b\b| \b\b/ \b\b- \b\b\\ \b\b| \b\b/ \b\b- \b\bdone\n",
            "Solving environment: | \b\b/ \b\b- \b\b\\ \b\b| \b\b/ \b\b- \b\b\\ \b\b| \b\b/ \b\bdone\n",
            "\n",
            "## Package Plan ##\n",
            "\n",
            "  environment location: /usr/local\n",
            "\n",
            "  added / updated specs:\n",
            "    - blast\n",
            "\n",
            "\n",
            "The following packages will be downloaded:\n",
            "\n",
            "    package                    |            build\n",
            "    ---------------------------|-----------------\n",
            "    blast-2.5.0                |       hc0b0e79_3       137.8 MB  bioconda\n",
            "    boost-1.73.0               |  py37h06a4308_11          25 KB\n",
            "    bzip2-1.0.8                |       h7b6447c_0          78 KB\n",
            "    ca-certificates-2021.1.19  |       h06a4308_0         121 KB\n",
            "    certifi-2020.12.5          |   py37h06a4308_0         141 KB\n",
            "    conda-4.9.2                |   py37h06a4308_0         2.9 MB\n",
            "    icu-58.2                   |       he6710b0_3        10.5 MB\n",
            "    libboost-1.73.0            |      h3ff78a5_11        13.9 MB\n",
            "    lz4-c-1.9.3                |       h2531618_0         186 KB\n",
            "    openssl-1.1.1j             |       h27cfd23_0         2.5 MB\n",
            "    py-boost-1.73.0            |  py37ha9443f7_11         204 KB\n",
            "    xz-5.2.5                   |       h7b6447c_0         341 KB\n",
            "    zstd-1.4.5                 |       h9ceee32_0         619 KB\n",
            "    ------------------------------------------------------------\n",
            "                                           Total:       169.3 MB\n",
            "\n",
            "The following NEW packages will be INSTALLED:\n",
            "\n",
            "  blast              bioconda/linux-64::blast-2.5.0-hc0b0e79_3\n",
            "  boost              pkgs/main/linux-64::boost-1.73.0-py37h06a4308_11\n",
            "  bzip2              pkgs/main/linux-64::bzip2-1.0.8-h7b6447c_0\n",
            "  icu                pkgs/main/linux-64::icu-58.2-he6710b0_3\n",
            "  libboost           pkgs/main/linux-64::libboost-1.73.0-h3ff78a5_11\n",
            "  lz4-c              pkgs/main/linux-64::lz4-c-1.9.3-h2531618_0\n",
            "  py-boost           pkgs/main/linux-64::py-boost-1.73.0-py37ha9443f7_11\n",
            "  zstd               pkgs/main/linux-64::zstd-1.4.5-h9ceee32_0\n",
            "\n",
            "The following packages will be UPDATED:\n",
            "\n",
            "  ca-certificates                                2020.1.1-0 --> 2021.1.19-h06a4308_0\n",
            "  certifi                                 2019.11.28-py37_0 --> 2020.12.5-py37h06a4308_0\n",
            "  conda                                        4.8.2-py37_0 --> 4.9.2-py37h06a4308_0\n",
            "  openssl                                 1.1.1d-h7b6447c_4 --> 1.1.1j-h27cfd23_0\n",
            "  xz                                       5.2.4-h14c3975_4 --> 5.2.5-h7b6447c_0\n",
            "\n",
            "\n",
            "Proceed ([y]/n)? y\n",
            "\n",
            "\n",
            "Downloading and Extracting Packages\n",
            "certifi-2020.12.5    | 141 KB    | : 100% 1.0/1 [00:00<00:00,  5.57it/s]                \n",
            "bzip2-1.0.8          | 78 KB     | : 100% 1.0/1 [00:00<00:00, 14.68it/s]\n",
            "zstd-1.4.5           | 619 KB    | : 100% 1.0/1 [00:00<00:00,  8.71it/s]\n",
            "py-boost-1.73.0      | 204 KB    | : 100% 1.0/1 [00:00<00:00, 14.40it/s]\n",
            "icu-58.2             | 10.5 MB   | : 100% 1.0/1 [00:00<00:00,  2.36it/s]                \n",
            "conda-4.9.2          | 2.9 MB    | : 100% 1.0/1 [00:00<00:00,  5.93it/s]\n",
            "lz4-c-1.9.3          | 186 KB    | : 100% 1.0/1 [00:00<00:00, 15.62it/s]\n",
            "boost-1.73.0         | 25 KB     | : 100% 1.0/1 [00:00<00:00,  6.10it/s]               \n",
            "xz-5.2.5             | 341 KB    | : 100% 1.0/1 [00:00<00:00,  3.58it/s]                \n",
            "blast-2.5.0          | 137.8 MB  | : 100% 1.0/1 [00:36<00:00, 36.39s/it]             \n",
            "ca-certificates-2021 | 121 KB    | : 100% 1.0/1 [00:00<00:00, 16.88it/s]\n",
            "libboost-1.73.0      | 13.9 MB   | : 100% 1.0/1 [00:01<00:00,  1.28s/it]               \n",
            "openssl-1.1.1j       | 2.5 MB    | : 100% 1.0/1 [00:00<00:00,  7.07it/s]\n",
            "Preparing transaction: \\ \b\b| \b\b/ \b\b- \b\b\\ \b\b| \b\b/ \b\bdone\n",
            "Verifying transaction: \\ \b\b| \b\b/ \b\b- \b\b\\ \b\b| \b\b/ \b\b- \b\b\\ \b\b| \b\b/ \b\b- \b\b\\ \b\b| \b\b/ \b\b- \b\b\\ \b\b| \b\b/ \b\b- \b\b\\ \b\b| \b\b/ \b\b- \b\b\\ \b\b| \b\b/ \b\b- \b\b\\ \b\b| \b\b/ \b\b- \b\b\\ \b\b| \b\b/ \b\b- \b\b\\ \b\b| \b\b/ \b\b- \b\b\\ \b\b| \b\b/ \b\b- \b\b\\ \b\b| \b\b/ \b\bdone\n",
            "Executing transaction: \\ \b\b| \b\b/ \b\b- \b\b\\ \b\b| \b\b/ \b\b- \b\b\\ \b\b| \b\b/ \b\b- \b\b\\ \b\b| \b\b/ \b\bdone\n",
            "Collecting package metadata (current_repodata.json): - \b\b\\ \b\b| \b\b/ \b\b- \b\b\\ \b\bdone\n",
            "Solving environment: / \b\bfailed with initial frozen solve. Retrying with flexible solve.\n",
            "Collecting package metadata (repodata.json): \\ \b\b| \b\b/ \b\b- \b\b\\ \b\b| \b\b/ \b\b- \b\b\\ \b\b| \b\b/ \b\b- \b\b\\ \b\b| \b\b/ \b\b- \b\b\\ \b\b| \b\b/ \b\b- \b\b\\ \b\b| \b\b/ \b\b- \b\b\\ \b\b| \b\b/ \b\b- \b\b\\ \b\b| \b\b/ \b\b- \b\b\\ \b\b| \b\b/ \b\b- \b\b\\ \b\b| \b\b/ \b\b- \b\b\\ \b\bdone\n",
            "Solving environment: / \b\bfailed with initial frozen solve. Retrying with flexible solve.\n",
            "\n",
            "PackagesNotFoundError: The following packages are not available from current channels:\n",
            "\n",
            "  - perl-digest-md5\n",
            "\n",
            "Current channels:\n",
            "\n",
            "  - https://repo.anaconda.com/pkgs/main/linux-64\n",
            "  - https://repo.anaconda.com/pkgs/main/noarch\n",
            "  - https://repo.anaconda.com/pkgs/r/linux-64\n",
            "  - https://repo.anaconda.com/pkgs/r/noarch\n",
            "\n",
            "To search for alternate channels that may provide the conda package you're\n",
            "looking for, navigate to\n",
            "\n",
            "    https://anaconda.org\n",
            "\n",
            "and use the search bar at the top of the page.\n",
            "\n",
            "\n"
          ],
          "name": "stdout"
        }
      ]
    },
    {
      "cell_type": "markdown",
      "metadata": {
        "id": "N0H5ATRumO6u"
      },
      "source": [
        "#第一步：建立檢索所需資料庫"
      ]
    },
    {
      "cell_type": "code",
      "metadata": {
        "id": "YUhkFpmKmOUO",
        "colab": {
          "base_uri": "https://localhost:8080/"
        },
        "outputId": "9e202ebc-f581-4c62-a00b-d51eb117c0b3"
      },
      "source": [
        "!makeblastdb -help     #check the command that can be uesd"
      ],
      "execution_count": 3,
      "outputs": [
        {
          "output_type": "stream",
          "text": [
            "USAGE\n",
            "  makeblastdb [-h] [-help] [-in input_file] [-input_type type]\n",
            "    -dbtype molecule_type [-title database_title] [-parse_seqids]\n",
            "    [-hash_index] [-mask_data mask_data_files] [-mask_id mask_algo_ids]\n",
            "    [-mask_desc mask_algo_descriptions] [-gi_mask]\n",
            "    [-gi_mask_name gi_based_mask_names] [-out database_name]\n",
            "    [-max_file_sz number_of_bytes] [-logfile File_Name] [-taxid TaxID]\n",
            "    [-taxid_map TaxIDMapFile] [-version]\n",
            "\n",
            "DESCRIPTION\n",
            "   Application to create BLAST databases, version 2.5.0+\n",
            "\n",
            "REQUIRED ARGUMENTS\n",
            " -dbtype <String, `nucl', `prot'>\n",
            "   Molecule type of target db\n",
            "\n",
            "OPTIONAL ARGUMENTS\n",
            " -h\n",
            "   Print USAGE and DESCRIPTION;  ignore all other parameters\n",
            " -help\n",
            "   Print USAGE, DESCRIPTION and ARGUMENTS; ignore all other parameters\n",
            " -version\n",
            "   Print version number;  ignore other arguments\n",
            "\n",
            " *** Input options\n",
            " -in <File_In>\n",
            "   Input file/database name\n",
            "   Default = `-'\n",
            " -input_type <String, `asn1_bin', `asn1_txt', `blastdb', `fasta'>\n",
            "   Type of the data specified in input_file\n",
            "   Default = `fasta'\n",
            "\n",
            " *** Configuration options\n",
            " -title <String>\n",
            "   Title for BLAST database\n",
            "   Default = input file name provided to -in argument\n",
            " -parse_seqids\n",
            "   Option to parse seqid for FASTA input if set, for all other input types\n",
            "   seqids are parsed automatically\n",
            " -hash_index\n",
            "   Create index of sequence hash values.\n",
            "\n",
            " *** Sequence masking options\n",
            " -mask_data <String>\n",
            "   Comma-separated list of input files containing masking data as produced by\n",
            "   NCBI masking applications (e.g. dustmasker, segmasker, windowmasker)\n",
            " -mask_id <String>\n",
            "   Comma-separated list of strings to uniquely identify the masking algorithm\n",
            "    * Requires:  mask_data\n",
            "    * Incompatible with:  gi_mask\n",
            " -mask_desc <String>\n",
            "   Comma-separated list of free form strings to describe the masking algorithm\n",
            "   details\n",
            "    * Requires:  mask_id\n",
            " -gi_mask\n",
            "   Create GI indexed masking data.\n",
            "    * Requires:  parse_seqids\n",
            "    * Incompatible with:  mask_id\n",
            " -gi_mask_name <String>\n",
            "   Comma-separated list of masking data output files.\n",
            "    * Requires:  mask_data, gi_mask\n",
            "\n",
            " *** Output options\n",
            " -out <String>\n",
            "   Name of BLAST database to be created\n",
            "   Default = input file name provided to -in argumentRequired if multiple\n",
            "   file(s)/database(s) are provided as input\n",
            " -max_file_sz <String>\n",
            "   Maximum file size for BLAST database files\n",
            "   Default = `1GB'\n",
            " -logfile <File_Out>\n",
            "   File to which the program log should be redirected\n",
            "\n",
            " *** Taxonomy options\n",
            " -taxid <Integer, >=0>\n",
            "   Taxonomy ID to assign to all sequences\n",
            "    * Incompatible with:  taxid_map\n",
            " -taxid_map <File_In>\n",
            "   Text file mapping sequence IDs to taxonomy IDs.\n",
            "   Format:<SequenceId> <TaxonomyId><newline>\n",
            "    * Requires:  parse_seqids\n",
            "    * Incompatible with:  taxid\n",
            "\n"
          ],
          "name": "stdout"
        }
      ]
    },
    {
      "cell_type": "code",
      "metadata": {
        "colab": {
          "base_uri": "https://localhost:8080/"
        },
        "id": "AXupjrKQ6BKP",
        "outputId": "08f55f72-4166-4843-eef4-bcddb0e5b84e"
      },
      "source": [
        "# 下載基因組\r\n",
        "!wget ftp://ftp.ensemblgenomes.org/pub/plants/release-36/fasta/arabidopsis_thaliana/dna/Arabidopsis_thaliana.TAIR10.dna.toplevel.fa.gz\r\n",
        "# -d --decompress\r\n",
        "!gzip -d Arabidopsis_thaliana.TAIR10.dna.toplevel.fa.gz \r\n",
        "# 構建核酸BLAST資料庫\r\n",
        "# !cdn\r\n",
        "!makeblastdb -in Arabidopsis_thaliana.TAIR10.dna.toplevel.fa -dbtype nucl -out TAIR10_nt/TAIR10 -parse_seqids\r\n",
        "# 下載擬南芥proytein資料\r\n",
        "!wget ftp://ftp.ensemblgenomes.org/pub/plants/release-36/fasta/arabidopsis_thaliana/pep/Arabidopsis_thaliana.TAIR10.pep.all.fa.gz\r\n",
        "# 構建蛋白BLAST資料庫\r\n",
        "!gzip -d Arabidopsis_thaliana.TAIR10.pep.all.fa.gz\r\n",
        "!makeblastdb -in  Arabidopsis_thaliana.TAIR10.pep.all.fa -dbtype prot -out TAIR10_pep/TAIR10 -parse_seqids"
      ],
      "execution_count": 4,
      "outputs": [
        {
          "output_type": "stream",
          "text": [
            "--2021-02-19 03:03:49--  ftp://ftp.ensemblgenomes.org/pub/plants/release-36/fasta/arabidopsis_thaliana/dna/Arabidopsis_thaliana.TAIR10.dna.toplevel.fa.gz\n",
            "           => ‘Arabidopsis_thaliana.TAIR10.dna.toplevel.fa.gz’\n",
            "Resolving ftp.ensemblgenomes.org (ftp.ensemblgenomes.org)... 193.62.193.141\n",
            "Connecting to ftp.ensemblgenomes.org (ftp.ensemblgenomes.org)|193.62.193.141|:21... connected.\n",
            "Logging in as anonymous ... Logged in!\n",
            "==> SYST ... done.    ==> PWD ... done.\n",
            "==> TYPE I ... done.  ==> CWD (1) /pub/plants/release-36/fasta/arabidopsis_thaliana/dna ... done.\n",
            "==> SIZE Arabidopsis_thaliana.TAIR10.dna.toplevel.fa.gz ... 36463727\n",
            "==> PASV ... done.    ==> RETR Arabidopsis_thaliana.TAIR10.dna.toplevel.fa.gz ... done.\n",
            "Length: 36463727 (35M) (unauthoritative)\n",
            "\n",
            "Arabidopsis_thalian 100%[===================>]  34.77M  13.4MB/s    in 2.6s    \n",
            "\n",
            "2021-02-19 03:03:53 (13.4 MB/s) - ‘Arabidopsis_thaliana.TAIR10.dna.toplevel.fa.gz’ saved [36463727]\n",
            "\n",
            "\n",
            "\n",
            "Building a new DB, current time: 02/19/2021 03:03:55\n",
            "New DB name:   /content/TAIR10_nt/TAIR10\n",
            "New DB title:  Arabidopsis_thaliana.TAIR10.dna.toplevel.fa\n",
            "Sequence type: Nucleotide\n",
            "Keep MBits: T\n",
            "Maximum file size: 1000000000B\n",
            "Adding sequences from FASTA; added 7 sequences in 1.85306 seconds.\n",
            "--2021-02-19 03:03:57--  ftp://ftp.ensemblgenomes.org/pub/plants/release-36/fasta/arabidopsis_thaliana/pep/Arabidopsis_thaliana.TAIR10.pep.all.fa.gz\n",
            "           => ‘Arabidopsis_thaliana.TAIR10.pep.all.fa.gz’\n",
            "Resolving ftp.ensemblgenomes.org (ftp.ensemblgenomes.org)... 193.62.193.141\n",
            "Connecting to ftp.ensemblgenomes.org (ftp.ensemblgenomes.org)|193.62.193.141|:21... connected.\n",
            "Logging in as anonymous ... Logged in!\n",
            "==> SYST ... done.    ==> PWD ... done.\n",
            "==> TYPE I ... done.  ==> CWD (1) /pub/plants/release-36/fasta/arabidopsis_thaliana/pep ... done.\n",
            "==> SIZE Arabidopsis_thaliana.TAIR10.pep.all.fa.gz ... 9748438\n",
            "==> PASV ... done.    ==> RETR Arabidopsis_thaliana.TAIR10.pep.all.fa.gz ... done.\n",
            "Length: 9748438 (9.3M) (unauthoritative)\n",
            "\n",
            "Arabidopsis_thalian 100%[===================>]   9.30M  7.39MB/s    in 1.3s    \n",
            "\n",
            "2021-02-19 03:04:00 (7.39 MB/s) - ‘Arabidopsis_thaliana.TAIR10.pep.all.fa.gz’ saved [9748438]\n",
            "\n",
            "\n",
            "\n",
            "Building a new DB, current time: 02/19/2021 03:04:00\n",
            "New DB name:   /content/TAIR10_pep/TAIR10\n",
            "New DB title:  Arabidopsis_thaliana.TAIR10.pep.all.fa\n",
            "Sequence type: Protein\n",
            "Keep MBits: T\n",
            "Maximum file size: 1000000000B\n",
            "Adding sequences from FASTA; added 48321 sequences in 2.49279 seconds.\n"
          ],
          "name": "stdout"
        }
      ]
    },
    {
      "cell_type": "code",
      "metadata": {
        "colab": {
          "base_uri": "https://localhost:8080/"
        },
        "id": "khHtd6D_wX4j",
        "outputId": "f6e4f809-d181-43c3-8cdf-ca17351c64d5"
      },
      "source": [
        "%cd /content/TAIR10_nt\r\n",
        "# 檢視資訊\r\n",
        "print(\"----------print1-----------\")\r\n",
        "!blastdbcmd -db TAIR10 -dbtype nucl -info\r\n",
        "# 所有資料\r\n",
        "print(\"----------print2-----------\")\r\n",
        "!blastdbcmd -db TAIR10 -dbtype nucl -entry all | head\r\n",
        "# 具體關鍵字，如GI號\r\n",
        "print(\"----------print3-----------\")\r\n",
        "!blastdbcmd -db TAIR10 -dbtype nucl -entry 3 | head\r\n",
        "%cd /content/"
      ],
      "execution_count": 5,
      "outputs": [
        {
          "output_type": "stream",
          "text": [
            "/content/TAIR10_nt\n",
            "----------print1-----------\n",
            "Database: Arabidopsis_thaliana.TAIR10.dna.toplevel.fa\n",
            "\t7 sequences; 119,667,750 total bases\n",
            "\n",
            "Date: Feb 19, 2021  3:03 AM\tLongest sequence: 30,427,671 bases\n",
            "\n",
            "Volumes:\n",
            "\t/content/TAIR10_nt/TAIR10\n",
            "----------print2-----------\n",
            ">1 dna:chromosome chromosome:TAIR10:1:1:30427671:1 REF\n",
            "CCCTAAACCCTAAACCCTAAACCCTAAACCTCTGAATCCTTAATCCCTAAATCCCTAAATCTTTAAATCCTACATCCATG\n",
            "AATCCCTAAATACCTAATTCCCTAAACCCGAAACCGGTTTCTCTGGTTGAAAATCATTGTGTATATAATGATAATTTTAT\n",
            "CGTTTTTATGTAATTGCTTATTGTTGTGTGTAGATTTTTTAAAAATATCATTTGAGGTCAATACAAATCCTATTTCTTGT\n",
            "GGTTTTCTTTCCTTCACTTAGCTATGGATGGTTTATCTTCATTTGTTATATTGGATACAAGCTTTGCTACGATCTACATT\n",
            "TGGGAATGTGAGTCTCTTATTGTAACCTTAGGGTTGGTTTATCTCAAGAATCTTATTAATTGTTTGGACTGTTTATGTTT\n",
            "GGACATTTATTGTCATTCTTACTCCTTTGTGGAAATGTTTGTTCTATCAATTTATCTTTTGTGGGAAAATTATTTAGTTG\n",
            "TAGGGATGAAGTCTTTCTTCGTTGTTGTTACGCTTGTCATCTCATCTCTCAATGATATGGGATGGTCCTTTAGCATTTAT\n",
            "TCTGAAGTTCTTCTGCTTGATGATTTTATCCTTAGCCAAAAGGATTGGTGGTTTGAAGACACATCATATCAAAAAAGCTA\n",
            "TCGCCTCGACGATGCTCTATTTCTATCCTTGTAGCACACATTTTGGCACTCAAAAAAGTATTTTTAGATGTTTGTTTTGC\n",
            "----------print3-----------\n",
            ">3 dna:chromosome chromosome:TAIR10:3:1:23459830:1 REF\n",
            "NNNNNNNNNNNNNNNNNNNNNNNNNNNNNNNNNNNNNNNNNNNNNNNNNNNNNNNNNNNNNNNNNNNNNNNNNNNNNNNN\n",
            "NNNNNNNNNNNNNNNNNNNNCCCTAAACCCTAAACCCTAAACCCTAAACCCTAAACCCTAAACCCTAAACCCTAAATCCA\n",
            "TAAATCCCTAAAACCATAATCCTAAATCCCTTAATTCCTAAATCCCTAATACTTAGACCCTAATCTTTAGTTCCTAGACC\n",
            "CTAATCTTTAGTTCCTAGACCCTAAATCCATAATCCTTAATTCCTAAATTCCTAAATCCCTAATACTAAATCTCTAAATC\n",
            "CCTAGCAATTTTCAAGTTTTGCTTGATTGTTGTAGGATGGTCCTTTCTCTTGTTTCTTCTCTGTGTTGTTGAGATTAGTT\n",
            "TGTTTAGGTTTGATAGCGTTGATTTTGGCCTGCGTTTGGTGACTCATATGGTTTGATTGGAGTTTGTTTCTGGGTTTTAT\n",
            "GGTTTTGGTTGAAGCGACATTTTTTTGTGGAATATGGTTTTTGCAAAATATTTTGTTCCGGATGAGTAATATCTACGGTG\n",
            "CTGCTGTGAGAATTATGCTATTGTTTTGCAGGTCCTGTTCTTAATCTTTCATCGCTTTTGTGCTTATTGTCTCCTTGTCG\n",
            "TTTATGTTGAGTGGTGTTTGGGCTTTAGTCAGGTTCAGTCCAACCGTTGCTCTTCCTCCCGTTCCTAGTCTCCTCGTCTC\n",
            "/content\n"
          ],
          "name": "stdout"
        }
      ]
    },
    {
      "cell_type": "markdown",
      "metadata": {
        "id": "u1iS5oZwyJm2"
      },
      "source": [
        "# 練習：B.subtilis"
      ]
    },
    {
      "cell_type": "code",
      "metadata": {
        "colab": {
          "base_uri": "https://localhost:8080/"
        },
        "id": "6L_HvyE5yXJK",
        "outputId": "3c9f71ff-41e7-4559-a5d6-fc445a4bcf66"
      },
      "source": [
        "!wget https://ftp.ncbi.nlm.nih.gov/genomes/all/GCF/000/009/045/GCF_000009045.1_ASM904v1/GCF_000009045.1_ASM904v1_genomic.fna.gz -O Bacillus_subtilis_genomic.fna.gz\r\n",
        "!gzip -d Bacillus_subtilis_genomic.fna.gz"
      ],
      "execution_count": 6,
      "outputs": [
        {
          "output_type": "stream",
          "text": [
            "--2021-02-19 03:04:04--  https://ftp.ncbi.nlm.nih.gov/genomes/all/GCF/000/009/045/GCF_000009045.1_ASM904v1/GCF_000009045.1_ASM904v1_genomic.fna.gz\n",
            "Resolving ftp.ncbi.nlm.nih.gov (ftp.ncbi.nlm.nih.gov)... 130.14.250.10, 2607:f220:41e:250::13, 2607:f220:41e:250::11, ...\n",
            "Connecting to ftp.ncbi.nlm.nih.gov (ftp.ncbi.nlm.nih.gov)|130.14.250.10|:443... connected.\n",
            "HTTP request sent, awaiting response... 200 OK\n",
            "Length: 1248396 (1.2M) [application/x-gzip]\n",
            "Saving to: ‘Bacillus_subtilis_genomic.fna.gz’\n",
            "\n",
            "Bacillus_subtilis_g 100%[===================>]   1.19M  3.14MB/s    in 0.4s    \n",
            "\n",
            "2021-02-19 03:04:04 (3.14 MB/s) - ‘Bacillus_subtilis_genomic.fna.gz’ saved [1248396/1248396]\n",
            "\n"
          ],
          "name": "stdout"
        }
      ]
    },
    {
      "cell_type": "code",
      "metadata": {
        "colab": {
          "base_uri": "https://localhost:8080/"
        },
        "id": "M51kndJcRo3r",
        "outputId": "a85a512a-da53-45ee-95b0-75ddbe67609a"
      },
      "source": [
        "!makeblastdb -in Bacillus_subtilis_genomic.fna -dbtype nucl -out Bacillus_subtilis/nucleotide -parse_seqids"
      ],
      "execution_count": 7,
      "outputs": [
        {
          "output_type": "stream",
          "text": [
            "\n",
            "\n",
            "Building a new DB, current time: 02/19/2021 03:04:05\n",
            "New DB name:   /content/Bacillus_subtilis/nucleotide\n",
            "New DB title:  Bacillus_subtilis_genomic.fna\n",
            "Sequence type: Nucleotide\n",
            "Keep MBits: T\n",
            "Maximum file size: 1000000000B\n",
            "Adding sequences from FASTA; added 1 sequences in 0.0667601 seconds.\n"
          ],
          "name": "stdout"
        }
      ]
    },
    {
      "cell_type": "code",
      "metadata": {
        "colab": {
          "base_uri": "https://localhost:8080/"
        },
        "id": "AQmmuAuzSKuQ",
        "outputId": "320a1f8f-f220-4d44-e925-32a7526622e9"
      },
      "source": [
        "%cd /content/Bacillus_subtilis\r\n",
        "# 檢視資訊\r\n",
        "print(\"----------print1-----------\")\r\n",
        "!blastdbcmd -db nucleotide -dbtype nucl -info\r\n",
        "# 所有資料\r\n",
        "print(\"----------print2-----------\")\r\n",
        "!blastdbcmd -db nucleotide -dbtype nucl -entry all | head\r\n",
        "# 具體關鍵字，如GI號\r\n",
        "print(\"----------print3-----------\")\r\n",
        "!blastdbcmd -db nucleotide -dbtype nucl -entry 3 | head\r\n",
        "%cd /content/"
      ],
      "execution_count": 8,
      "outputs": [
        {
          "output_type": "stream",
          "text": [
            "/content/Bacillus_subtilis\n",
            "----------print1-----------\n",
            "Database: Bacillus_subtilis_genomic.fna\n",
            "\t1 sequences; 4,215,606 total bases\n",
            "\n",
            "Date: Feb 19, 2021  3:04 AM\tLongest sequence: 4,215,606 bases\n",
            "\n",
            "Volumes:\n",
            "\t/content/Bacillus_subtilis/nucleotide\n",
            "----------print2-----------\n",
            ">NC_000964.3 Bacillus subtilis subsp. subtilis str. 168 complete genome\n",
            "ATCTTTTTCGGCTTTTTTTAGTATCCACAGAGGTTATCGACAACATTTTCACATTACCAACCCCTGTGGACAAGGTTTTT\n",
            "TCAACAGGTTGTCCGCTTTGTGGATAAGATTGTGACAACCATTGCAAGCTCTCGTTTATTTTGGTATTATATTTGTGTTT\n",
            "TAACTCTTGATTACTAATCCTACCTTTCCTCTTTATCCACAAAGTGTGGATAAGTTGTGGATTGATTTCACACAGCTTGT\n",
            "GTAGAAGGTTGTCCACAAGTTGTGAAATTTGTCGAAAAGCTATTTATCTACTATATTATATGTTTTCAACATTTAATGTG\n",
            "TACGAATGGTAAGCGCCATTTGCTCTTTTTTTGTGTTCTATAACAGAGAAAGACGCCATTTTCTAAGAAAAGGAGGGACG\n",
            "TGCCGGAAGATGGAAAATATATTAGACCTGTGGAACCAAGCCCTTGCTCAAATCGAAAAAAAGTTGAGCAAACCGAGTTT\n",
            "TGAGACTTGGATGAAGTCAACCAAAGCCCACTCACTGCAAGGCGATACATTAACAATCACGGCTCCCAATGAATTTGCCA\n",
            "GAGACTGGCTGGAGTCCAGATACTTGCATCTGATTGCAGATACTATATATGAATTAACCGGGGAAGAATTGAGCATTAAG\n",
            "TTTGTCATTCCTCAAAATCAAGATGTTGAGGACTTTATGCCGAAACCGCAAGTCAAAAAAGCGGTCAAAGAAGATACATC\n",
            "----------print3-----------\n",
            "Error: [blastdbcmd] 3: OID not found\n",
            "Error: [blastdbcmd] 3: OID not found\n",
            "BLAST query/options error: Entry or entries not found in BLAST database\n",
            "Please refer to the BLAST+ user manual.\n",
            "/content\n"
          ],
          "name": "stdout"
        }
      ]
    },
    {
      "cell_type": "markdown",
      "metadata": {
        "id": "O_-hd3iVv6Bc"
      },
      "source": [
        "### linux指令"
      ]
    },
    {
      "cell_type": "code",
      "metadata": {
        "colab": {
          "base_uri": "https://localhost:8080/"
        },
        "id": "KxLN0jhmAY2E",
        "outputId": "143a152b-5094-4243-ec30-f73112bebfdb"
      },
      "source": [
        "# 查看殼層\r\n",
        "!cat /etc/shells\r\n",
        "print(\"-----------------------\")\r\n",
        "#use \"%cd\" in colab\r\n",
        "%cd /etc\r\n",
        "# 查看現在路徑\r\n",
        "!pwd\r\n",
        "print(\"-----------------------\")\r\n",
        "# 查看 gpu\r\n",
        "!/opt/bin/nvidia-smi"
      ],
      "execution_count": 9,
      "outputs": [
        {
          "output_type": "stream",
          "text": [
            "# /etc/shells: valid login shells\n",
            "/bin/sh\n",
            "/bin/bash\n",
            "/bin/rbash\n",
            "/bin/dash\n",
            "/usr/bin/tmux\n",
            "-----------------------\n",
            "/etc\n",
            "/etc\n",
            "-----------------------\n",
            "/bin/bash: /opt/bin/nvidia-smi: No such file or directory\n"
          ],
          "name": "stdout"
        }
      ]
    },
    {
      "cell_type": "markdown",
      "metadata": {
        "id": "cIz0XSvBk-hA"
      },
      "source": [
        "# 將欲上傳資料打包"
      ]
    },
    {
      "cell_type": "code",
      "metadata": {
        "id": "-zCoUCTDjuL8",
        "colab": {
          "base_uri": "https://localhost:8080/"
        },
        "outputId": "781eb6c6-b5bd-48d3-d642-4e0e2d768448"
      },
      "source": [
        "%cd /content\r\n",
        "!mkdir Arabidopsis_thaliana\r\n",
        "!cp Arabidopsis_thaliana.TAIR10.dna.toplevel.fa  Arabidopsis_thaliana/"
      ],
      "execution_count": 10,
      "outputs": [
        {
          "output_type": "stream",
          "text": [
            "/content\n"
          ],
          "name": "stdout"
        }
      ]
    },
    {
      "cell_type": "markdown",
      "metadata": {
        "id": "b5SbhXNJlI13"
      },
      "source": [
        "### 1.上傳 github"
      ]
    },
    {
      "cell_type": "code",
      "metadata": {
        "colab": {
          "base_uri": "https://localhost:8080/"
        },
        "id": "vNe7Q2T9obFL",
        "outputId": "d16cd36e-652c-434f-9096-09f404eaa01b"
      },
      "source": [
        "!ssh-keygen"
      ],
      "execution_count": 11,
      "outputs": [
        {
          "output_type": "stream",
          "text": [
            "Generating public/private rsa key pair.\n",
            "Enter file in which to save the key (/root/.ssh/id_rsa): \n",
            "Created directory '/root/.ssh'.\n",
            "Enter passphrase (empty for no passphrase): \n",
            "Enter same passphrase again: \n",
            "Your identification has been saved in /root/.ssh/id_rsa.\n",
            "Your public key has been saved in /root/.ssh/id_rsa.pub.\n",
            "The key fingerprint is:\n",
            "SHA256:7M2n7tuEbrI+fkFedk0UZ/Sp05ZrPRgCN+VkWS0rJvI root@6914221acb54\n",
            "The key's randomart image is:\n",
            "+---[RSA 2048]----+\n",
            "|             +o=B|\n",
            "|            =...*|\n",
            "|         . o . *.|\n",
            "|       .. = * = o|\n",
            "|        S= * * + |\n",
            "|       . oE.. = o|\n",
            "|        . +.o. +.|\n",
            "|        o.o=  . .|\n",
            "|       o+O*..    |\n",
            "+----[SHA256]-----+\n"
          ],
          "name": "stdout"
        }
      ]
    },
    {
      "cell_type": "code",
      "metadata": {
        "colab": {
          "base_uri": "https://localhost:8080/"
        },
        "id": "hgHmUKm983Ev",
        "outputId": "be232b84-a3f2-4764-a5ae-6d61b4d782c7"
      },
      "source": [
        "!cd /root/.ssh;ls -la"
      ],
      "execution_count": 12,
      "outputs": [
        {
          "output_type": "stream",
          "text": [
            "total 20\n",
            "drwx------ 2 root root 4096 Feb 19 03:04 .\n",
            "drwx------ 1 root root 4096 Feb 19 03:04 ..\n",
            "-rw------- 1 root root 1679 Feb 19 03:04 id_rsa\n",
            "-rw-r--r-- 1 root root  399 Feb 19 03:04 id_rsa.pub\n"
          ],
          "name": "stdout"
        }
      ]
    },
    {
      "cell_type": "code",
      "metadata": {
        "colab": {
          "base_uri": "https://localhost:8080/"
        },
        "id": "VLLx0anH8ue-",
        "outputId": "27412ec1-6080-4ca8-dfaf-fc90b56e3f9a"
      },
      "source": [
        "!cat /root/.ssh/id_rsa.pub"
      ],
      "execution_count": 13,
      "outputs": [
        {
          "output_type": "stream",
          "text": [
            "ssh-rsa AAAAB3NzaC1yc2EAAAADAQABAAABAQCsuZXUgoDd/5BdRaLgdpY/e51YJuNClsYJJS4c3YdlrSEINWxNQim/nIpamQibjklnza+s1++cLyrVJGg0zQvEeCh2YsKd77KAY2yO9U0f0iW36ljcGDS0PJuSuWHI9+Vv+eZC7T0hbUq+WArobHb+LlLzxCflqrDkiSoWtiYgM9iII5u7CQxPsjdDmGCZTDfWc8J3Zm1c1Jctk/+PLF3RXstX9iKEGcXDhPWyAGVeL9AxxyXQd7loIUS3Eu/GMaCTrV4yZ6qLlv9EIeISbx+XDfHzTabVZUmVJvqm+H519Ol+iFTdzUhRevNbcIwORNPHFCEvRSdQVMVX1UmZibOv root@6914221acb54\n"
          ],
          "name": "stdout"
        }
      ]
    },
    {
      "cell_type": "code",
      "metadata": {
        "colab": {
          "base_uri": "https://localhost:8080/"
        },
        "id": "1YHjxFc6JjMo",
        "outputId": "bccee1ef-fb9c-42eb-d63a-a2abcc5cff24"
      },
      "source": [
        "!echo Arabidopsis_thaliana_$(date +%Y%m%d_%H%M%S)"
      ],
      "execution_count": 14,
      "outputs": [
        {
          "output_type": "stream",
          "text": [
            "Arabidopsis_thaliana_20210219_030430\n"
          ],
          "name": "stdout"
        }
      ]
    },
    {
      "cell_type": "code",
      "metadata": {
        "id": "ZtPpJE135Ieq",
        "colab": {
          "base_uri": "https://localhost:8080/"
        },
        "outputId": "903ac122-8368-4e10-b0b8-a97c2168e8cf"
      },
      "source": [
        "# 刪除origin\r\n",
        "!git remote rm origin\r\n",
        "print(\"Origin has been delete\")"
      ],
      "execution_count": 24,
      "outputs": [
        {
          "output_type": "stream",
          "text": [
            "Origin has been delete\n"
          ],
          "name": "stdout"
        }
      ]
    },
    {
      "cell_type": "code",
      "metadata": {
        "colab": {
          "base_uri": "https://localhost:8080/"
        },
        "id": "gggzVEcY5o7l",
        "outputId": "8ff49700-e883-4863-ae02-3563b57b8901"
      },
      "source": [
        "%cd /content/\r\n",
        "!mkdir hello\r\n",
        "%cd hello"
      ],
      "execution_count": 16,
      "outputs": [
        {
          "output_type": "stream",
          "text": [
            "/content\n",
            "/content/hello\n"
          ],
          "name": "stdout"
        }
      ]
    },
    {
      "cell_type": "code",
      "metadata": {
        "colab": {
          "base_uri": "https://localhost:8080/"
        },
        "id": "tPN-cGxdAa06",
        "outputId": "e319ea06-36b7-40ed-d8b5-d3cb5ea62cd1"
      },
      "source": [
        "# check how path was it\r\n",
        "!pwd"
      ],
      "execution_count": 17,
      "outputs": [
        {
          "output_type": "stream",
          "text": [
            "/content/hello\n"
          ],
          "name": "stdout"
        }
      ]
    },
    {
      "cell_type": "code",
      "metadata": {
        "colab": {
          "base_uri": "https://localhost:8080/"
        },
        "id": "iaMKO7EU-6pL",
        "outputId": "14bbe84a-bbfa-4c3f-8ee4-39f193c6707a"
      },
      "source": [
        "!git config --global user.email \"\"\r\n",
        "!git config --global user.name \"\"\r\n",
        "\r\n",
        "!echo \"# colab_blast\" >> README.md\r\n",
        "!git init\r\n",
        "!git add README.md\r\n",
        "!git commit -m \"first commit\"\r\n",
        "!git branch -M main\r\n",
        "!git remote add origin git@github.com:```user_name```/```repository```.git\r\n",
        "!git push origin main\r\n",
        "# 如果要更改Origin可以上去 \"刪除origin\""
      ],
      "execution_count": 25,
      "outputs": [
        {
          "output_type": "stream",
          "text": [
            "Reinitialized existing Git repository in /content/hello/.git/\n",
            "\n",
            "*** Please tell me who you are.\n",
            "\n",
            "Run\n",
            "\n",
            "  git config --global user.email \"you@example.com\"\n",
            "  git config --global user.name \"Your Name\"\n",
            "\n",
            "to set your account's default identity.\n",
            "Omit --global to set the identity only in this repository.\n",
            "\n",
            "fatal: empty ident name (for <>) not allowed\n",
            "error: refname refs/heads/master not found\n",
            "fatal: Branch rename failed\n",
            "/bin/bash: user_name: command not found\n",
            "/bin/bash: repository: command not found\n",
            "error: src refspec main does not match any.\n",
            "error: failed to push some refs to 'git@github.com:/.git'\n"
          ],
          "name": "stdout"
        }
      ]
    },
    {
      "cell_type": "code",
      "metadata": {
        "colab": {
          "base_uri": "https://localhost:8080/"
        },
        "id": "Xe9y1PP3_aYF",
        "outputId": "cf415d8e-ba4d-4a86-c28f-7848135dda7d"
      },
      "source": [
        "# check ssh \r\n",
        "!git remote -v"
      ],
      "execution_count": 26,
      "outputs": [
        {
          "output_type": "stream",
          "text": [
            "origin\tgit@github.com:/.git (fetch)\n",
            "origin\tgit@github.com:/.git (push)\n"
          ],
          "name": "stdout"
        }
      ]
    },
    {
      "cell_type": "code",
      "metadata": {
        "colab": {
          "base_uri": "https://localhost:8080/"
        },
        "id": "FdZkXG9_AGT3",
        "outputId": "bcf077c7-e8e9-4ae3-995d-6d441015116b"
      },
      "source": [
        "!git push origin main"
      ],
      "execution_count": 27,
      "outputs": [
        {
          "output_type": "stream",
          "text": [
            "error: src refspec main does not match any.\n",
            "error: failed to push some refs to 'git@github.com:/.git'\n"
          ],
          "name": "stdout"
        }
      ]
    },
    {
      "cell_type": "markdown",
      "metadata": {
        "id": "vcjiBfK_7WR0"
      },
      "source": [
        "在colab 好像無法 qq..."
      ]
    },
    {
      "cell_type": "markdown",
      "metadata": {
        "id": "mz2Ju9Lp1rMj"
      },
      "source": [
        "###2.上傳 google雲端硬碟"
      ]
    },
    {
      "cell_type": "markdown",
      "metadata": {
        "id": "5XSjONzv6So8"
      },
      "source": [
        "案左上角最右邊的掛接鍵 或是..."
      ]
    },
    {
      "cell_type": "code",
      "metadata": {
        "id": "nBxTyH1u6RlF"
      },
      "source": [
        "#如果以掛接就不需要\n",
        "from google.colab import drive\n",
        "drive.mount('/content/drive')"
      ],
      "execution_count": null,
      "outputs": []
    },
    {
      "cell_type": "code",
      "metadata": {
        "id": "JurFQPYI5LtP"
      },
      "source": [
        "!cd /content/drive/MyDrive/研究;mkdir blast_data\r\n",
        "!cp -r /content/TAIR10_nt /content/drive/MyDrive/研究/blast_data/"
      ],
      "execution_count": null,
      "outputs": []
    },
    {
      "cell_type": "markdown",
      "metadata": {
        "id": "0I51DJsP7VGE"
      },
      "source": [
        "#第三步：執行blast，調整輸出格式"
      ]
    },
    {
      "cell_type": "code",
      "metadata": {
        "id": "DphnpnaW7oAR"
      },
      "source": [
        "# -e 可使用特殊自元\r\n",
        "!echo -e \">test\\nTGAAAGCAAGAAGAGCGTTTGGTGGTTTCTTAACAAATCATTGCAACTCCACAAGGCGCCTGTAATAGACAGCTTGTGCATGGAACTTGGTCCACAGTGCCCTACCACTGATGATGTTGATATCGGAAAGTGGGTTGCAAAAGCTGTTGATTGTTTGGTGATGACGCTAACAATCAAGCTCCTCTGGT\" >> query.fa"
      ],
      "execution_count": 29,
      "outputs": []
    },
    {
      "cell_type": "code",
      "metadata": {
        "colab": {
          "base_uri": "https://localhost:8080/"
        },
        "id": "CqMbZF1LEXew",
        "outputId": "cbb0db58-75a3-4a09-b75f-abc4e35d83e4"
      },
      "source": [
        "!blastn -db BLAST Arabidopsis_thaliana.TAIR10.dna.toplevel.fa -query query.fa"
      ],
      "execution_count": 30,
      "outputs": [
        {
          "output_type": "stream",
          "text": [
            "USAGE\n",
            "  blastn [-h] [-help] [-import_search_strategy filename]\n",
            "    [-export_search_strategy filename] [-task task_name] [-db database_name]\n",
            "    [-dbsize num_letters] [-gilist filename] [-seqidlist filename]\n",
            "    [-negative_gilist filename] [-entrez_query entrez_query]\n",
            "    [-db_soft_mask filtering_algorithm] [-db_hard_mask filtering_algorithm]\n",
            "    [-subject subject_input_file] [-subject_loc range] [-query input_file]\n",
            "    [-out output_file] [-evalue evalue] [-word_size int_value]\n",
            "    [-gapopen open_penalty] [-gapextend extend_penalty]\n",
            "    [-perc_identity float_value] [-qcov_hsp_perc float_value]\n",
            "    [-max_hsps int_value] [-xdrop_ungap float_value] [-xdrop_gap float_value]\n",
            "    [-xdrop_gap_final float_value] [-searchsp int_value]\n",
            "    [-sum_stats bool_value] [-penalty penalty] [-reward reward] [-no_greedy]\n",
            "    [-min_raw_gapped_score int_value] [-template_type type]\n",
            "    [-template_length int_value] [-dust DUST_options]\n",
            "    [-filtering_db filtering_database]\n",
            "    [-window_masker_taxid window_masker_taxid]\n",
            "    [-window_masker_db window_masker_db] [-soft_masking soft_masking]\n",
            "    [-ungapped] [-culling_limit int_value] [-best_hit_overhang float_value]\n",
            "    [-best_hit_score_edge float_value] [-window_size int_value]\n",
            "    [-off_diagonal_range int_value] [-use_index boolean] [-index_name string]\n",
            "    [-lcase_masking] [-query_loc range] [-strand strand] [-parse_deflines]\n",
            "    [-outfmt format] [-show_gis] [-num_descriptions int_value]\n",
            "    [-num_alignments int_value] [-line_length line_length] [-html]\n",
            "    [-max_target_seqs num_sequences] [-num_threads int_value] [-remote]\n",
            "    [-version]\n",
            "\n",
            "DESCRIPTION\n",
            "   Nucleotide-Nucleotide BLAST 2.5.0+\n",
            "\n",
            "Use '-help' to print detailed descriptions of command line arguments\n",
            "========================================================================\n",
            "\n",
            "Error: Too many positional arguments (1), the offending value: Arabidopsis_thaliana.TAIR10.dna.toplevel.fa\n",
            "Error:  (CArgException::eSynopsis) Too many positional arguments (1), the offending value: Arabidopsis_thaliana.TAIR10.dna.toplevel.fa\n"
          ],
          "name": "stdout"
        }
      ]
    }
  ]
}